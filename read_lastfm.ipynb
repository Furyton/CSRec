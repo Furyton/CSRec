{
 "cells": [
  {
   "cell_type": "code",
   "execution_count": 1,
   "metadata": {},
   "outputs": [],
   "source": [
    "import pandas as pd\n",
    "import numpy as np\n",
    "import pickle\n",
    "import os"
   ]
  },
  {
   "cell_type": "code",
   "execution_count": null,
   "metadata": {},
   "outputs": [],
   "source": [
    "file_path = \"./lastfm-dataset-1K/userid-timestamp-artid-artname-traid-traname.tsv\""
   ]
  },
  {
   "cell_type": "code",
   "execution_count": null,
   "metadata": {},
   "outputs": [],
   "source": [
    "# df = pd.read_csv(\n",
    "#     file_path, sep='\\t', header=None,\n",
    "#     names=[\n",
    "#         'user_id', 'timestamp', 'artist_id', 'artist_name', 'track_id', 'track_name'\n",
    "#     ],\n",
    "#     skiprows=[\n",
    "#         2120260-1, 2446318-1, 11141081-1,\n",
    "#         11152099-1, 11152402-1, 11882087-1,\n",
    "#         12902539-1, 12935044-1, 17589539-1\n",
    "#     ]\n",
    "# )\n",
    "# df[\"timestamp\"] = pd.to_datetime(df.timestamp)\n",
    "# df.sort_values(['user_id', 'timestamp'], ascending=True, inplace=True)\n",
    "# print(f'Number of Records: {len(df):,}\\nUnique Users: {df.user_id.nunique()}\\nUnique Artist:{df.artist_id.nunique():,}')\n",
    "# df.head(5)"
   ]
  },
  {
   "cell_type": "code",
   "execution_count": null,
   "metadata": {},
   "outputs": [],
   "source": [
    "# save_filepath = os.path.join(\"./lastfm-dataset-1K\", 'lastfm-dataset-1k.snappy.parquet')\n",
    "\n",
    "# df.to_parquet(save_filepath, compression='GZIP', index=False)"
   ]
  },
  {
   "cell_type": "code",
   "execution_count": 2,
   "metadata": {},
   "outputs": [
    {
     "name": "stdout",
     "output_type": "stream",
     "text": [
      "Number of Records: 19,098,853\n",
      "Unique Users: 992\n",
      "Unique Artist:107,295\n",
      "CPU times: user 34.1 s, sys: 10.4 s, total: 44.4 s\n",
      "Wall time: 44.7 s\n"
     ]
    },
    {
     "data": {
      "text/html": [
       "<div>\n",
       "<style scoped>\n",
       "    .dataframe tbody tr th:only-of-type {\n",
       "        vertical-align: middle;\n",
       "    }\n",
       "\n",
       "    .dataframe tbody tr th {\n",
       "        vertical-align: top;\n",
       "    }\n",
       "\n",
       "    .dataframe thead th {\n",
       "        text-align: right;\n",
       "    }\n",
       "</style>\n",
       "<table border=\"1\" class=\"dataframe\">\n",
       "  <thead>\n",
       "    <tr style=\"text-align: right;\">\n",
       "      <th></th>\n",
       "      <th>user_id</th>\n",
       "      <th>timestamp</th>\n",
       "      <th>artist_id</th>\n",
       "      <th>artist_name</th>\n",
       "      <th>track_id</th>\n",
       "      <th>track_name</th>\n",
       "    </tr>\n",
       "  </thead>\n",
       "  <tbody>\n",
       "    <tr>\n",
       "      <th>0</th>\n",
       "      <td>user_000001</td>\n",
       "      <td>2006-08-13 13:59:20+00:00</td>\n",
       "      <td>09a114d9-7723-4e14-b524-379697f6d2b5</td>\n",
       "      <td>Plaid &amp; Bob Jaroc</td>\n",
       "      <td>c4633ab1-e715-477f-8685-afa5f2058e42</td>\n",
       "      <td>The Launching Of Big Face</td>\n",
       "    </tr>\n",
       "    <tr>\n",
       "      <th>1</th>\n",
       "      <td>user_000001</td>\n",
       "      <td>2006-08-13 14:03:29+00:00</td>\n",
       "      <td>09a114d9-7723-4e14-b524-379697f6d2b5</td>\n",
       "      <td>Plaid &amp; Bob Jaroc</td>\n",
       "      <td>bc2765af-208c-44c5-b3b0-cf597a646660</td>\n",
       "      <td>Zn Zero</td>\n",
       "    </tr>\n",
       "    <tr>\n",
       "      <th>2</th>\n",
       "      <td>user_000001</td>\n",
       "      <td>2006-08-13 14:10:43+00:00</td>\n",
       "      <td>09a114d9-7723-4e14-b524-379697f6d2b5</td>\n",
       "      <td>Plaid &amp; Bob Jaroc</td>\n",
       "      <td>aa9c5a80-5cbe-42aa-a966-eb3cfa37d832</td>\n",
       "      <td>The Return Of Super Barrio - End Credits</td>\n",
       "    </tr>\n",
       "    <tr>\n",
       "      <th>3</th>\n",
       "      <td>user_000001</td>\n",
       "      <td>2006-08-13 14:17:40+00:00</td>\n",
       "      <td>67fb65b5-6589-47f0-9371-8a40eb268dfb</td>\n",
       "      <td>Tommy Guerrero</td>\n",
       "      <td>d9b1c1da-7e47-4f97-a135-77260f2f559d</td>\n",
       "      <td>Mission Flats</td>\n",
       "    </tr>\n",
       "    <tr>\n",
       "      <th>4</th>\n",
       "      <td>user_000001</td>\n",
       "      <td>2006-08-13 14:19:06+00:00</td>\n",
       "      <td>1cfbc7d1-299c-46e6-ba4c-1facb84ba435</td>\n",
       "      <td>Artful Dodger</td>\n",
       "      <td>120bb01c-03e4-465f-94a0-dce5e9fac711</td>\n",
       "      <td>What You Gonna Do?</td>\n",
       "    </tr>\n",
       "  </tbody>\n",
       "</table>\n",
       "</div>"
      ],
      "text/plain": [
       "       user_id                 timestamp  \\\n",
       "0  user_000001 2006-08-13 13:59:20+00:00   \n",
       "1  user_000001 2006-08-13 14:03:29+00:00   \n",
       "2  user_000001 2006-08-13 14:10:43+00:00   \n",
       "3  user_000001 2006-08-13 14:17:40+00:00   \n",
       "4  user_000001 2006-08-13 14:19:06+00:00   \n",
       "\n",
       "                              artist_id        artist_name  \\\n",
       "0  09a114d9-7723-4e14-b524-379697f6d2b5  Plaid & Bob Jaroc   \n",
       "1  09a114d9-7723-4e14-b524-379697f6d2b5  Plaid & Bob Jaroc   \n",
       "2  09a114d9-7723-4e14-b524-379697f6d2b5  Plaid & Bob Jaroc   \n",
       "3  67fb65b5-6589-47f0-9371-8a40eb268dfb     Tommy Guerrero   \n",
       "4  1cfbc7d1-299c-46e6-ba4c-1facb84ba435      Artful Dodger   \n",
       "\n",
       "                               track_id  \\\n",
       "0  c4633ab1-e715-477f-8685-afa5f2058e42   \n",
       "1  bc2765af-208c-44c5-b3b0-cf597a646660   \n",
       "2  aa9c5a80-5cbe-42aa-a966-eb3cfa37d832   \n",
       "3  d9b1c1da-7e47-4f97-a135-77260f2f559d   \n",
       "4  120bb01c-03e4-465f-94a0-dce5e9fac711   \n",
       "\n",
       "                                 track_name  \n",
       "0                 The Launching Of Big Face  \n",
       "1                                   Zn Zero  \n",
       "2  The Return Of Super Barrio - End Credits  \n",
       "3                             Mission Flats  \n",
       "4                        What You Gonna Do?  "
      ]
     },
     "execution_count": 2,
     "metadata": {},
     "output_type": "execute_result"
    }
   ],
   "source": [
    "save_filepath = os.path.join(\"./lastfm-dataset-1K\", 'lastfm-dataset-1k.snappy.parquet')\n",
    "\n",
    "df = pd.read_parquet(save_filepath)\n",
    "print(f'Number of Records: {len(df):,}\\nUnique Users: {df.user_id.nunique()}\\nUnique Artist:{df.artist_id.nunique():,}')\n",
    "df.head(5)"
   ]
  },
  {
   "cell_type": "code",
   "execution_count": null,
   "metadata": {},
   "outputs": [],
   "source": [
    "# sub_dataset = df[df.track_id.isin(rand_track)]"
   ]
  },
  {
   "cell_type": "code",
   "execution_count": null,
   "metadata": {},
   "outputs": [],
   "source": [
    "# sub_dataset = sub_dataset.reset_index(drop=True)"
   ]
  },
  {
   "cell_type": "code",
   "execution_count": null,
   "metadata": {},
   "outputs": [],
   "source": [
    "df = df.fillna(\"None\")\n",
    "\n",
    "tot_track = df.track_id.nunique()\n",
    "\n",
    "rand_track = df.track_id.unique()[np.random.choice(range(tot_track), 199001, replace=False)]\n",
    "\n",
    "df = df[df.track_id.isin(rand_track)]"
   ]
  },
  {
   "cell_type": "code",
   "execution_count": null,
   "metadata": {},
   "outputs": [],
   "source": [
    "tot_session_num = len(df)"
   ]
  },
  {
   "cell_type": "code",
   "execution_count": null,
   "metadata": {},
   "outputs": [],
   "source": [
    "# session_id = np.array(range(tot_session_num)) // 20"
   ]
  },
  {
   "cell_type": "code",
   "execution_count": null,
   "metadata": {},
   "outputs": [],
   "source": [
    "# sub_dataset.insert(loc=0, column=\"session_id\", value=session_id)"
   ]
  },
  {
   "cell_type": "code",
   "execution_count": null,
   "metadata": {},
   "outputs": [],
   "source": [
    "# sub_dataset.insert(loc=0, column=\"keep\", value=session_id)"
   ]
  },
  {
   "cell_type": "code",
   "execution_count": null,
   "metadata": {},
   "outputs": [],
   "source": [
    "# df.groupby(\"user_id\").count().describe()"
   ]
  },
  {
   "cell_type": "code",
   "execution_count": null,
   "metadata": {},
   "outputs": [],
   "source": [
    "# sub_dataset.groupby('session_id').apply(lambda x: x.timestamp.max() - x.timestamp.min() < pd.Timedelta(\"02:00:00\"))"
   ]
  },
  {
   "cell_type": "code",
   "execution_count": null,
   "metadata": {},
   "outputs": [],
   "source": [
    "seperator = np.array(range(tot_session_num)) // 20"
   ]
  },
  {
   "cell_type": "code",
   "execution_count": null,
   "metadata": {},
   "outputs": [],
   "source": [
    "# sub_dataset.columns.insert(0, \"sep\")"
   ]
  },
  {
   "cell_type": "code",
   "execution_count": null,
   "metadata": {},
   "outputs": [],
   "source": [
    "last = 0\n",
    "def process(ee: pd.DataFrame):\n",
    "    global last\n",
    "    # ee = ee.sort_values(\"timestamp\")\n",
    "\n",
    "    ee.insert(0, \"sep\", seperator[:len(ee)] + last + 1)\n",
    "\n",
    "    last = seperator[len(ee) - 1] + last + 1\n",
    "    return ee\n",
    "\n",
    "def process2(ee: pd.DataFrame):\n",
    "    ee.insert(0, \"keep\", len(ee) >= 5 and ee.timestamp.max() - ee.timestamp.min() < pd.Timedelta(\"02:00:00\"))\n",
    "\n",
    "    return ee"
   ]
  },
  {
   "cell_type": "code",
   "execution_count": null,
   "metadata": {},
   "outputs": [],
   "source": [
    "split_dataset = df.groupby('user_id').apply(lambda x: process(x))"
   ]
  },
  {
   "cell_type": "code",
   "execution_count": null,
   "metadata": {},
   "outputs": [],
   "source": [
    "kept_dataset = split_dataset.groupby(\"sep\").apply(lambda x: process2(x))"
   ]
  },
  {
   "cell_type": "code",
   "execution_count": null,
   "metadata": {},
   "outputs": [],
   "source": [
    "kept_dataset"
   ]
  },
  {
   "cell_type": "code",
   "execution_count": null,
   "metadata": {},
   "outputs": [],
   "source": [
    "final_dataset = kept_dataset[kept_dataset.keep]"
   ]
  },
  {
   "cell_type": "code",
   "execution_count": null,
   "metadata": {},
   "outputs": [],
   "source": [
    "final_dataset = final_dataset.reset_index(drop=True).drop(columns=[\"keep\"])"
   ]
  },
  {
   "cell_type": "code",
   "execution_count": null,
   "metadata": {},
   "outputs": [],
   "source": [
    "def reindex(df: pd.DataFrame, columns:list):\n",
    "    for column in columns:\n",
    "        df[column] = df[column].map(dict(zip(df[column].unique(), range(1, len(df[column].unique())+1))))"
   ]
  },
  {
   "cell_type": "code",
   "execution_count": null,
   "metadata": {},
   "outputs": [],
   "source": [
    "# reindex(final_dataset, [\"sep\"])"
   ]
  },
  {
   "cell_type": "code",
   "execution_count": null,
   "metadata": {},
   "outputs": [],
   "source": [
    "final_dataset.to_csv(\"./lastfm-dataset-1K/filtered_session_199000_tracks.csv\", index=False)"
   ]
  },
  {
   "cell_type": "code",
   "execution_count": null,
   "metadata": {},
   "outputs": [],
   "source": [
    "cp = final_dataset.copy()\n",
    "map_user = dict(zip(cp[\"user_id\"].unique(), range(1, len(cp[\"user_id\"].unique())+1)))\n",
    "map_track = dict(zip(cp[\"track_id\"].unique(), range(1, len(cp[\"track_id\"].unique())+1)))\n",
    "\n",
    "pickle.dump([map_user, map_track], open(\"./lastfm-dataset-1K/user_track_id_map_199000.pkl\", \"wb\"))"
   ]
  },
  {
   "cell_type": "code",
   "execution_count": null,
   "metadata": {},
   "outputs": [],
   "source": [
    "reindex(cp, [\"sep\", \"user_id\", \"track_id\"])"
   ]
  },
  {
   "cell_type": "code",
   "execution_count": null,
   "metadata": {},
   "outputs": [],
   "source": [
    "cp.groupby('sep').count().describe()"
   ]
  },
  {
   "cell_type": "code",
   "execution_count": null,
   "metadata": {},
   "outputs": [],
   "source": [
    "cp.to_csv(\"reindexed_sessions.csv\", index=False)"
   ]
  }
 ],
 "metadata": {
  "interpreter": {
   "hash": "808aab110c6fed9b9dbf71336221406782a6c598bc80bd8effad398419753fd7"
  },
  "kernelspec": {
   "display_name": "Python 3.9.7 64-bit ('pytorch_11.3': conda)",
   "name": "python3"
  },
  "language_info": {
   "codemirror_mode": {
    "name": "ipython",
    "version": 3
   },
   "file_extension": ".py",
   "mimetype": "text/x-python",
   "name": "python",
   "nbconvert_exporter": "python",
   "pygments_lexer": "ipython3",
   "version": "3.9.7"
  },
  "orig_nbformat": 4
 },
 "nbformat": 4,
 "nbformat_minor": 2
}
