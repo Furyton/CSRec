{
 "cells": [
  {
   "cell_type": "code",
   "execution_count": 1,
   "metadata": {},
   "outputs": [
    {
     "name": "stderr",
     "output_type": "stream",
     "text": [
      "d:\\Applications\\minconda\\envs\\cap\\lib\\site-packages\\tqdm\\auto.py:22: TqdmWarning: IProgress not found. Please update jupyter and ipywidgets. See https://ipywidgets.readthedocs.io/en/stable/user_install.html\n",
      "  from .autonotebook import tqdm as notebook_tqdm\n"
     ]
    }
   ],
   "source": [
    "import pandas as pd\n",
    "import numpy as np\n",
    "from sklearn.utils import shuffle\n",
    "from utils import set_temporary_np_seed_as"
   ]
  },
  {
   "cell_type": "code",
   "execution_count": 2,
   "metadata": {},
   "outputs": [],
   "source": [
    "data_path = \"Data/lastfm_small.csv\"\n",
    "\n",
    "df = pd.read_csv(data_path)"
   ]
  },
  {
   "cell_type": "code",
   "execution_count": 3,
   "metadata": {},
   "outputs": [],
   "source": [
    "def _remap(df: pd.DataFrame, columns: list):\n",
    "    with set_temporary_np_seed_as(2022):\n",
    "        for column in columns:\n",
    "            df.loc[:, column] = df.loc[:, column].map(\n",
    "                dict(zip(shuffle(df[column].unique()), range(1, len(df[column].unique()) + 1))))"
   ]
  },
  {
   "cell_type": "code",
   "execution_count": 4,
   "metadata": {},
   "outputs": [],
   "source": [
    "def gen_sampled_dataset(rate: float):\n",
    "    n_users = df.session_id.nunique()\n",
    "    n_sampled_users = int(n_users * rate)\n",
    "    with set_temporary_np_seed_as(2000):\n",
    "        selected_users = list(np.random.choice(df.session_id.tolist(), n_sampled_users, replace=False))\n",
    "\n",
    "    sampled_df = df[df.session_id.isin(selected_users)]\n",
    "    sampled_df = sampled_df.reset_index(drop=True)\n",
    "\n",
    "    _remap(sampled_df, ['session_id', 'item_id'])\n",
    "\n",
    "    return sampled_df"
   ]
  },
  {
   "cell_type": "code",
   "execution_count": 5,
   "metadata": {},
   "outputs": [],
   "source": [
    "rate_list = [0.2, 0.4, 0.6, 0.8]\n",
    "\n",
    "for r in rate_list:\n",
    "    sampled_df = gen_sampled_dataset(r)\n",
    "    name = \"lastfm_small_\" + str(r) + \".csv\"\n",
    "    sampled_df.to_csv(\"Data/\" + name, index=False)"
   ]
  }
 ],
 "metadata": {
  "kernelspec": {
   "display_name": "Python 3.9.13 ('cap')",
   "language": "python",
   "name": "python3"
  },
  "language_info": {
   "codemirror_mode": {
    "name": "ipython",
    "version": 3
   },
   "file_extension": ".py",
   "mimetype": "text/x-python",
   "name": "python",
   "nbconvert_exporter": "python",
   "pygments_lexer": "ipython3",
   "version": "3.9.13"
  },
  "orig_nbformat": 4,
  "vscode": {
   "interpreter": {
    "hash": "5574de1fe0ea64ed0c4117f2b7d91c2aabdbb3b4c3dc938b3bbdee825c0d163e"
   }
  }
 },
 "nbformat": 4,
 "nbformat_minor": 2
}
