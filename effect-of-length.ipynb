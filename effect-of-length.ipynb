{
 "cells": [
  {
   "cell_type": "code",
   "execution_count": 1,
   "id": "dbb21ab8",
   "metadata": {},
   "outputs": [],
   "source": [
    "import json\n",
    "from pathlib import Path"
   ]
  },
  {
   "cell_type": "code",
   "execution_count": 2,
   "id": "3e99d141",
   "metadata": {},
   "outputs": [],
   "source": [
    "def gen_metrics_file_path(base_dir: str, secondary_prefix: str, tertiary_prefix: str):\n",
    "    base_path = Path(base_dir)\n",
    "\n",
    "    def file_finder(path: Path, prefix):\n",
    "        for child in path.iterdir():\n",
    "            if prefix in child.name: # child.name.startswith(prefix):\n",
    "#                 print (\"child.name\", child.name)\n",
    "                yield child\n",
    "\n",
    "    for secondary in file_finder(base_path, secondary_prefix):\n",
    "        if secondary.is_dir():\n",
    "            # print(f\"secondary: {secondary}\")\n",
    "            for teriary in file_finder(secondary, tertiary_prefix):\n",
    "                # print(f\"teriary: {teriary}\")\n",
    "                try:\n",
    "                    return next(file_finder(teriary, \"test_metrics.json\"))\n",
    "                except:\n",
    "                    print(f\"can't find test_metrics in {teriary}\")"
   ]
  },
  {
   "cell_type": "code",
   "execution_count": 3,
   "id": "62a17525",
   "metadata": {},
   "outputs": [],
   "source": [
    "name = [\"base\", \"soft\", \"ed\", \"ep\", \"dvae\"]\n",
    "BASE_DIR = [\"_____lfms_base_len_3\", \"_____lfms_soft_len_4\", \"_____lfms_ed_len_3\", \"_____lfms_ep_len_3\", \"_____lfms_dvae_len_3\"]\n",
    "SECOND_DIR = [\"-len-10\", \"-len-15\", \"-len-20\", \"-len-25\", \"-len-30\", \"-len-35\", \"-len-40\"]\n",
    "THIRD_DIR = [\"gru4rec\", \"student\", \"student\", \"student\", \"student\"]"
   ]
  },
  {
   "cell_type": "code",
   "execution_count": 4,
   "id": "3661861e",
   "metadata": {},
   "outputs": [],
   "source": [
    "name2metric = {}\n",
    "\n",
    "for n, b, t in zip(name, BASE_DIR, THIRD_DIR):\n",
    "    for s in SECOND_DIR:\n",
    "        p = gen_metrics_file_path(b, s, t)\n",
    "        \n",
    "        with p.open('r') as f:\n",
    "            j = json.load(f)\n",
    "            \n",
    "            name2metric[n+s] = j"
   ]
  },
  {
   "cell_type": "code",
   "execution_count": 5,
   "id": "0e28854d",
   "metadata": {},
   "outputs": [],
   "source": [
    "import matplotlib.pyplot as plt"
   ]
  },
  {
   "cell_type": "code",
   "execution_count": 7,
   "id": "ed5e6e2f",
   "metadata": {},
   "outputs": [
    {
     "data": {
      "image/png": "[encoded data removed]",
      "text/plain": [
       "<Figure size 432x288 with 5 Axes>"
      ]
     },
     "metadata": {
      "needs_background": "light"
     },
     "output_type": "display_data"
    }
   ],
   "source": [
    "figs, axs = plt.subplots(1, 5, sharey=True)\n",
    "METRIC = \"Recall@5\"\n",
    "\n",
    "for i, n in enumerate(name):\n",
    "    m = []\n",
    "    for length in SECOND_DIR:\n",
    "        key = n+length\n",
    "        m.append(name2metric[key][METRIC])\n",
    "    axs[i].bar([1, 2, 3, 4, 5, 6, 7], m, width=1, edgecolor='white', linewidth=0.7)\n",
    "    axs[i].set(xlim=(0, 8), xticks=[1, 2, 3, 4, 5, 6, 7])\n",
    "    axs[i].set_title(n)\n",
    "\n",
    "plt.show()"
   ]
  }
 ],
 "metadata": {
  "kernelspec": {
   "display_name": "Python 3 (ipykernel)",
   "language": "python",
   "name": "python3"
  },
  "language_info": {
   "codemirror_mode": {
    "name": "ipython",
    "version": 3
   },
   "file_extension": ".py",
   "mimetype": "text/x-python",
   "name": "python",
   "nbconvert_exporter": "python",
   "pygments_lexer": "ipython3",
   "version": "3.9.7"
  },
  "varInspector": {
   "cols": {
    "lenName": 16,
    "lenType": 16,
    "lenVar": 40
   },
   "kernels_config": {
    "python": {
     "delete_cmd_postfix": "",
     "delete_cmd_prefix": "del ",
     "library": "var_list.py",
     "varRefreshCmd": "print(var_dic_list())"
    },
    "r": {
     "delete_cmd_postfix": ") ",
     "delete_cmd_prefix": "rm(",
     "library": "var_list.r",
     "varRefreshCmd": "cat(var_dic_list()) "
    }
   },
   "types_to_exclude": [
    "module",
    "function",
    "builtin_function_or_method",
    "instance",
    "_Feature"
   ],
   "window_display": false
  }
 },
 "nbformat": 4,
 "nbformat_minor": 5
}
