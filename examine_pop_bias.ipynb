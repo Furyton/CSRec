{
 "cells": [
  {
   "cell_type": "code",
   "execution_count": 1,
   "id": "24294c93",
   "metadata": {},
   "outputs": [
    {
     "name": "stdout",
     "output_type": "stream",
     "text": [
      "The Zen of Python, by Tim Peters\n",
      "\n",
      "Beautiful is better than ugly.\n",
      "Explicit is better than implicit.\n",
      "Simple is better than complex.\n",
      "Complex is better than complicated.\n",
      "Flat is better than nested.\n",
      "Sparse is better than dense.\n",
      "Readability counts.\n",
      "Special cases aren't special enough to break the rules.\n",
      "Although practicality beats purity.\n",
      "Errors should never pass silently.\n",
      "Unless explicitly silenced.\n",
      "In the face of ambiguity, refuse the temptation to guess.\n",
      "There should be one-- and preferably only one --obvious way to do it.\n",
      "Although that way may not be obvious at first unless you're Dutch.\n",
      "Now is better than never.\n",
      "Although never is often better than *right* now.\n",
      "If the implementation is hard to explain, it's a bad idea.\n",
      "If the implementation is easy to explain, it may be a good idea.\n",
      "Namespaces are one honking great idea -- let's do more of those!\n"
     ]
    }
   ],
   "source": [
    "import os\n",
    "import argparse\n",
    "import json\n",
    "from os import path\n",
    "from copy import deepcopy\n",
    "\n",
    "from utils import *\n",
    "\n",
    "from dataloaders import dataloader_factory\n",
    "from scheduler.utils import *\n",
    "\n",
    "from collections import Counter\n",
    "from tqdm import tqdm"
   ]
  },
  {
   "cell_type": "code",
   "execution_count": 2,
   "id": "9199b7f8",
   "metadata": {},
   "outputs": [],
   "source": [
    "working_base = \"/data03/wushiguang-slurm/projects/recommendation/csrec/code/WSDM-2023-CSRec\""
   ]
  },
  {
   "cell_type": "code",
   "execution_count": 3,
   "id": "70936393",
   "metadata": {},
   "outputs": [],
   "source": [
    "config_path = working_base + \"/___el_base/gru4rec/config.json\"\n",
    "data_path = working_base + \"/Data/Cache/electronics-5-5.pkl\"\n",
    "base_model_path = working_base + \"/___el_base/gru4rec/gru4rec_logs/checkpoint/best_acc_model.pth\""
   ]
  },
  {
   "cell_type": "code",
   "execution_count": 4,
   "id": "904b38f6",
   "metadata": {},
   "outputs": [],
   "source": [
    "with open(path.normpath(config_path), 'r') as f:\n",
    "    args = argparse.Namespace()\n",
    "    args.__dict__.update(json.load(f))\n",
    "    if args.kwargs is not None:\n",
    "        args.__dict__.update(args.kwargs)\n",
    "\n",
    "args.worker_number=1\n",
    "args.device='cpu'"
   ]
  },
  {
   "cell_type": "code",
   "execution_count": 5,
   "id": "5e187019",
   "metadata": {},
   "outputs": [],
   "source": [
    "train_loader, val_loader, test_loader, dataset = dataloader_factory(args)\n",
    "\n",
    "item_train, item_valid, item_test, n_users, n_items, rating_train, rating_valid, rating_test = dataset"
   ]
  },
  {
   "cell_type": "code",
   "execution_count": 6,
   "id": "f546cbf0",
   "metadata": {},
   "outputs": [],
   "source": [
    "proportion = [2, 6, 2]"
   ]
  },
  {
   "cell_type": "code",
   "execution_count": 7,
   "id": "d93222ec",
   "metadata": {},
   "outputs": [],
   "source": [
    "popularity = Counter()\n",
    "for user in range(n_users):\n",
    "    popularity.update(item_train[user])\n",
    "    popularity.update(item_valid[user])\n",
    "    popularity.update(item_test[user])"
   ]
  },
  {
   "cell_type": "markdown",
   "id": "2946e038",
   "metadata": {},
   "source": [
    "descent order"
   ]
  },
  {
   "cell_type": "code",
   "execution_count": 8,
   "id": "95a3793c",
   "metadata": {},
   "outputs": [],
   "source": [
    "sorted_items = sorted(popularity.keys(), key=lambda x: -popularity[x])"
   ]
  },
  {
   "cell_type": "code",
   "execution_count": 9,
   "id": "05b8d860",
   "metadata": {},
   "outputs": [],
   "source": [
    "proportion = [int(np.floor(n_part)) for n_part in np.array(proportion) / sum(proportion) * n_items]"
   ]
  },
  {
   "cell_type": "code",
   "execution_count": 10,
   "id": "4f0e190c",
   "metadata": {},
   "outputs": [],
   "source": [
    "interval = [torch.tensor(l) for l in np.split(sorted_items, np.cumsum(proportion[:-1]))]"
   ]
  },
  {
   "cell_type": "code",
   "execution_count": 11,
   "id": "87d3d7ab",
   "metadata": {},
   "outputs": [],
   "source": [
    "from tqdm import tqdm\n",
    "\n",
    "def _calculate_batch(batch, model):\n",
    "    batch = [x.to(args.device) for x in batch]\n",
    "    \n",
    "    seqs = batch[0]\n",
    "    answer = batch[1]\n",
    "    \n",
    "    batch_size = seqs.size(0)\n",
    "    labels = torch.zeros(batch_size, n_items + 1)\n",
    "    with torch.no_grad():\n",
    "        scores = model.full_sort_predict(batch)\n",
    "    \n",
    "    row = []\n",
    "    col = []\n",
    "    \n",
    "    for i in range(batch_size):\n",
    "        seq = list(set(seqs[i].tolist()) | set(answer[i].tolist()))\n",
    "        seq.remove(answer[i][0].item())\n",
    "        if 0 in seq:\n",
    "            seq.remove(0)\n",
    "        labels[i][answer[i]] = 1\n",
    "        \n",
    "        row += [i] * len(seq)\n",
    "        col += seq\n",
    "    \n",
    "    scores[row, col] = -1e9\n",
    "    \n",
    "    return scores, labels, answer\n",
    "\n",
    "def calc_metrics(model):\n",
    "    model.eval()\n",
    "    \n",
    "    score_list = []\n",
    "    label_list = []\n",
    "    answer_list = []\n",
    "    \n",
    "    for batch in tqdm(test_loader):\n",
    "        scores, label, answer = _calculate_batch(batch, model)\n",
    "        score_list.append(scores)\n",
    "        label_list.append(label)\n",
    "        answer_list.append(answer)\n",
    "    \n",
    "    all_score = torch.cat(score_list)\n",
    "    all_label = torch.cat(label_list)\n",
    "    all_answer = torch.cat(answer_list)\n",
    "    \n",
    "    return all_score, all_label, all_answer"
   ]
  },
  {
   "cell_type": "code",
   "execution_count": 12,
   "id": "6fd9d55e",
   "metadata": {},
   "outputs": [
    {
     "data": {
      "text/plain": [
       "21031936"
      ]
     },
     "execution_count": 12,
     "metadata": {},
     "output_type": "execute_result"
    }
   ],
   "source": [
    "base_model = generate_model(args, args.model_code, dataset, 'cpu')\n",
    "load_state_from_given_path(base_model, base_model_path, 'cpu', must_exist=True)"
   ]
  },
  {
   "cell_type": "code",
   "execution_count": 13,
   "id": "7fc7f5bb",
   "metadata": {},
   "outputs": [
    {
     "name": "stderr",
     "output_type": "stream",
     "text": [
      "100%|██████████| 400/400 [00:33<00:00, 11.83it/s]\n"
     ]
    }
   ],
   "source": [
    "score, label, answer = calc_metrics(base_model)"
   ]
  },
  {
   "cell_type": "code",
   "execution_count": 14,
   "id": "da99d7bd",
   "metadata": {},
   "outputs": [],
   "source": [
    "from trainers.utils import recalls_ndcgs_and_mrr_for_ks\n",
    "from utils import AverageMeter\n",
    "import gc\n",
    "\n",
    "def get_partial_metrics(interval, model, batch_size=512):\n",
    "    ii = (answer == interval).sum(1)\n",
    "    score1 = score[ii==1]\n",
    "    label1 = label[ii==1]\n",
    "    rating1 = torch.tensor(rating_test)[ii==1]\n",
    "    \n",
    "    print(f\"ii size: {ii.size()}, score size: {score1.size()}, label1 size: {label1.size()}, rating1 size: {rating1.size()}\")\n",
    "    print(f\"n_users: {n_users}, n_items: {n_items}, selected users: {ii.sum()}\")\n",
    "    \n",
    "    average_meter_set = AverageMeterSet()\n",
    "    \n",
    "    for s, a, r in tqdm(zip(score1.split(batch_size), label1.split(batch_size), rating1.split(batch_size))):\n",
    "        s = s.to('cuda')\n",
    "        a = a.to('cuda')\n",
    "        r = r.to('cuda')\n",
    "        metrics = recalls_ndcgs_and_mrr_for_ks(s, a, [5, 10, 20], r)\n",
    "        s.to('cpu')\n",
    "        a.to('cpu')\n",
    "        r.to('cpu')\n",
    "        del s, a, r\n",
    "\n",
    "        for k, v in metrics.items():\n",
    "            average_meter_set.update(k, v)\n",
    "\n",
    "    avg_m = average_meter_set.averages()\n",
    "    \n",
    "    gc.collect()\n",
    "    torch.cuda.empty_cache()\n",
    "    \n",
    "    return avg_m"
   ]
  },
  {
   "cell_type": "code",
   "execution_count": 15,
   "id": "a91a29e5",
   "metadata": {},
   "outputs": [
    {
     "name": "stdout",
     "output_type": "stream",
     "text": [
      "ii size: torch.Size([102187]), score size: torch.Size([66952, 29352]), label1 size: torch.Size([66952, 29352]), rating1 size: torch.Size([66952, 1])\n",
      "n_users: 102187, n_items: 29351, selected users: 66952\n"
     ]
    },
    {
     "name": "stderr",
     "output_type": "stream",
     "text": [
      "66it [01:17,  1.17s/it]\n"
     ]
    },
    {
     "name": "stdout",
     "output_type": "stream",
     "text": [
      "ii size: torch.Size([102187]), score size: torch.Size([30400, 29352]), label1 size: torch.Size([30400, 29352]), rating1 size: torch.Size([30400, 1])\n",
      "n_users: 102187, n_items: 29351, selected users: 30400\n"
     ]
    },
    {
     "name": "stderr",
     "output_type": "stream",
     "text": [
      "30it [00:48,  1.60s/it]\n"
     ]
    },
    {
     "name": "stdout",
     "output_type": "stream",
     "text": [
      "ii size: torch.Size([102187]), score size: torch.Size([4835, 29352]), label1 size: torch.Size([4835, 29352]), rating1 size: torch.Size([4835, 1])\n",
      "n_users: 102187, n_items: 29351, selected users: 4835\n"
     ]
    },
    {
     "name": "stderr",
     "output_type": "stream",
     "text": [
      "5it [00:03,  1.30it/s]\n"
     ]
    }
   ],
   "source": [
    "all_m = {}\n",
    "for i in range(3):\n",
    "    avg_m = get_partial_metrics(interval[i], base_model, batch_size=1024)\n",
    "    \n",
    "    all_m[i] = avg_m"
   ]
  },
  {
   "cell_type": "code",
   "execution_count": 16,
   "id": "198d82ad",
   "metadata": {},
   "outputs": [
    {
     "name": "stdout",
     "output_type": "stream",
     "text": [
      "{0: {'MRR*@10': 0.02276497536028425,\n",
      "     'MRR*@20': 0.024910683884765163,\n",
      "     'MRR*@5': 0.019815626116751722,\n",
      "     'MRR@10': 0.021012124323257893,\n",
      "     'MRR@20': 0.023046826252318693,\n",
      "     'MRR@5': 0.018286973675430723,\n",
      "     'NDCG*@10': 0.031586530872366646,\n",
      "     'NDCG*@20': 0.039497129590899654,\n",
      "     'NDCG*@5': 0.024346043299319164,\n",
      "     'NDCG@10': 0.029247142938953457,\n",
      "     'NDCG@20': 0.03675097974976807,\n",
      "     'NDCG@5': 0.022549451526367302,\n",
      "     'Recall*@10': 0.060782972158807694,\n",
      "     'Recall*@20': 0.09226277436722409,\n",
      "     'Recall*@5': 0.038186111177007355,\n",
      "     'Recall@10': 0.05649628456343304,\n",
      "     'Recall@20': 0.08636297206535484,\n",
      "     'Recall@5': 0.03557809843032649},\n",
      " 1: {'MRR*@10': 0.019398014061152935,\n",
      "     'MRR*@20': 0.019893704168498515,\n",
      "     'MRR*@5': 0.0186174634223183,\n",
      "     'MRR@10': 0.018754470565666755,\n",
      "     'MRR@20': 0.019236902768413226,\n",
      "     'MRR@5': 0.018026209715753794,\n",
      "     'NDCG*@10': 0.022135407415529093,\n",
      "     'NDCG*@20': 0.02395274496326844,\n",
      "     'NDCG*@5': 0.020243168529123067,\n",
      "     'NDCG@10': 0.021352407770852247,\n",
      "     'NDCG@20': 0.02311240673686067,\n",
      "     'NDCG@5': 0.019580557849258183,\n",
      "     'Recall*@10': 0.03103041953096787,\n",
      "     'Recall*@20': 0.03824083531896273,\n",
      "     'Recall*@5': 0.025175909573833147,\n",
      "     'Recall@10': 0.02978515625,\n",
      "     'Recall@20': 0.03675130208333333,\n",
      "     'Recall@5': 0.02428977278371652},\n",
      " 2: {'MRR*@10': 0.017745327204465866,\n",
      "     'MRR*@20': 0.017871896363794805,\n",
      "     'MRR*@5': 0.017710423097014427,\n",
      "     'MRR@10': 0.016548884473741053,\n",
      "     'MRR@20': 0.01669025868177414,\n",
      "     'MRR@5': 0.01652182061225176,\n",
      "     'NDCG*@10': 0.01852091811597347,\n",
      "     'NDCG*@20': 0.018970056623220443,\n",
      "     'NDCG*@5': 0.01842002272605896,\n",
      "     'NDCG@10': 0.017391099967062472,\n",
      "     'NDCG@20': 0.017904579639434814,\n",
      "     'NDCG@5': 0.017312868498265743,\n",
      "     'Recall*@10': 0.020895206555724143,\n",
      "     'Recall*@20': 0.02264749687165022,\n",
      "     'Recall*@5': 0.020546166226267815,\n",
      "     'Recall@10': 0.019985833764076234,\n",
      "     'Recall@20': 0.022014282271265985,\n",
      "     'Recall@5': 0.01971519775688648}}\n"
     ]
    }
   ],
   "source": [
    "import pprint as pp\n",
    "\n",
    "pp.pprint(all_m, width=1)"
   ]
  },
  {
   "cell_type": "code",
   "execution_count": 17,
   "id": "aa037bd4",
   "metadata": {},
   "outputs": [],
   "source": [
    "import matplotlib.pyplot as plt"
   ]
  },
  {
   "cell_type": "code",
   "execution_count": 18,
   "id": "0dffca63",
   "metadata": {},
   "outputs": [],
   "source": [
    "ndcg5 = [all_m[i]['Recall@5'] for i in range(3)]"
   ]
  },
  {
   "cell_type": "code",
   "execution_count": 19,
   "id": "29d98d4e",
   "metadata": {},
   "outputs": [
    {
     "data": {
      "image/png": "[encoded data removed]",
      "text/plain": [
       "<Figure size 432x288 with 1 Axes>"
      ]
     },
     "metadata": {
      "needs_background": "light"
     },
     "output_type": "display_data"
    }
   ],
   "source": [
    "fig, ax = plt.subplots()\n",
    "\n",
    "ax.bar([1, 2, 3], ndcg5, width=1, edgecolor='white', linewidth=0.7)\n",
    "\n",
    "ax.set(xlim=(0, 4), xticks=[1, 2, 3])\n",
    "\n",
    "plt.show()"
   ]
  }
 ],
 "metadata": {
  "kernelspec": {
   "display_name": "Python 3 (ipykernel)",
   "language": "python",
   "name": "python3"
  },
  "language_info": {
   "codemirror_mode": {
    "name": "ipython",
    "version": 3
   },
   "file_extension": ".py",
   "mimetype": "text/x-python",
   "name": "python",
   "nbconvert_exporter": "python",
   "pygments_lexer": "ipython3",
   "version": "3.9.7"
  },
  "varInspector": {
   "cols": {
    "lenName": 16,
    "lenType": 16,
    "lenVar": 40
   },
   "kernels_config": {
    "python": {
     "delete_cmd_postfix": "",
     "delete_cmd_prefix": "del ",
     "library": "var_list.py",
     "varRefreshCmd": "print(var_dic_list())"
    },
    "r": {
     "delete_cmd_postfix": ") ",
     "delete_cmd_prefix": "rm(",
     "library": "var_list.r",
     "varRefreshCmd": "cat(var_dic_list()) "
    }
   },
   "types_to_exclude": [
    "module",
    "function",
    "builtin_function_or_method",
    "instance",
    "_Feature"
   ],
   "window_display": false
  }
 },
 "nbformat": 4,
 "nbformat_minor": 5
}
