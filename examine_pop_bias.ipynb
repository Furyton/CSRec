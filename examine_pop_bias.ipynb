{
 "cells": [
  {
   "cell_type": "code",
   "execution_count": 1,
   "id": "24294c93",
   "metadata": {},
   "outputs": [
    {
     "name": "stdout",
     "output_type": "stream",
     "text": [
      "The Zen of Python, by Tim Peters\n",
      "\n",
      "Beautiful is better than ugly.\n",
      "Explicit is better than implicit.\n",
      "Simple is better than complex.\n",
      "Complex is better than complicated.\n",
      "Flat is better than nested.\n",
      "Sparse is better than dense.\n",
      "Readability counts.\n",
      "Special cases aren't special enough to break the rules.\n",
      "Although practicality beats purity.\n",
      "Errors should never pass silently.\n",
      "Unless explicitly silenced.\n",
      "In the face of ambiguity, refuse the temptation to guess.\n",
      "There should be one-- and preferably only one --obvious way to do it.\n",
      "Although that way may not be obvious at first unless you're Dutch.\n",
      "Now is better than never.\n",
      "Although never is often better than *right* now.\n",
      "If the implementation is hard to explain, it's a bad idea.\n",
      "If the implementation is easy to explain, it may be a good idea.\n",
      "Namespaces are one honking great idea -- let's do more of those!\n"
     ]
    }
   ],
   "source": [
    "import os\n",
    "import argparse\n",
    "import json\n",
    "from os import path\n",
    "from copy import deepcopy\n",
    "\n",
    "from utils import *\n",
    "\n",
    "from dataloaders import dataloader_factory\n",
    "from scheduler.utils import *\n",
    "\n",
    "from collections import Counter\n",
    "from tqdm import tqdm\n",
    "\n",
    "from trainers.utils import recalls_ndcgs_and_mrr_for_ks\n",
    "from utils import AverageMeter\n",
    "import gc"
   ]
  },
  {
   "cell_type": "code",
   "execution_count": 2,
   "id": "aa037bd4",
   "metadata": {},
   "outputs": [],
   "source": [
    "import matplotlib.pyplot as plt"
   ]
  },
  {
   "cell_type": "code",
   "execution_count": 3,
   "id": "9199b7f8",
   "metadata": {},
   "outputs": [],
   "source": [
    "working_base = \"/data03/wushiguang-slurm/projects/recommendation/csrec/code/WSDM-2023-CSRec\""
   ]
  },
  {
   "cell_type": "code",
   "execution_count": 4,
   "id": "70936393",
   "metadata": {},
   "outputs": [],
   "source": [
    "config_path = working_base + \"/___el_base/gru4rec/config.json\"\n",
    "data_path = working_base + \"/Data/Cache/electronics-5-5.pkl\"\n",
    "base_model_path = working_base + \"/___el_base/gru4rec/gru4rec_logs/checkpoint/best_acc_model.pth\"\n",
    "soft_model_path = working_base + \"/___el_soft/gru4rec/student_gru4rec_logs/checkpoint/best_acc_model.pth\"\n",
    "ed_model_path = working_base + \"/___el_ed/gru4rec/student_gru4rec_logs/checkpoint/best_acc_model.pth\"\n",
    "ep_model_path = working_base + \"/___el_ep/gru4rec/student_gru4rec_logs/checkpoint/best_acc_model.pth\"\n",
    "dvae_model_path = working_base + \"/___el_dvae/gru4rec/student_gru4rec_logs/checkpoint/best_acc_model.pth\"\n",
    "\n",
    "path_dict = {'base': base_model_path, 'soft': soft_model_path, 'ed': ed_model_path, 'ep': ep_model_path, 'dvae': dvae_model_path}"
   ]
  },
  {
   "cell_type": "code",
   "execution_count": 5,
   "id": "904b38f6",
   "metadata": {},
   "outputs": [],
   "source": [
    "with open(path.normpath(config_path), 'r') as f:\n",
    "    args = argparse.Namespace()\n",
    "    args.__dict__.update(json.load(f))\n",
    "    if args.kwargs is not None:\n",
    "        args.__dict__.update(args.kwargs)\n",
    "\n",
    "args.worker_number=1\n",
    "args.device='cpu'"
   ]
  },
  {
   "cell_type": "code",
   "execution_count": 6,
   "id": "5e187019",
   "metadata": {},
   "outputs": [],
   "source": [
    "train_loader, val_loader, test_loader, dataset = dataloader_factory(args)\n",
    "\n",
    "item_train, item_valid, item_test, n_users, n_items, rating_train, rating_valid, rating_test = dataset"
   ]
  },
  {
   "cell_type": "code",
   "execution_count": 7,
   "id": "d93222ec",
   "metadata": {},
   "outputs": [],
   "source": [
    "popularity = Counter()\n",
    "for user in range(n_users):\n",
    "    popularity.update(item_train[user])\n",
    "    popularity.update(item_valid[user])\n",
    "    popularity.update(item_test[user])"
   ]
  },
  {
   "cell_type": "code",
   "execution_count": 8,
   "id": "87d3d7ab",
   "metadata": {},
   "outputs": [],
   "source": [
    "from tqdm import tqdm\n",
    "\n",
    "def _calculate_batch(batch, model):\n",
    "    batch = [x.to(args.device) for x in batch]\n",
    "    \n",
    "    seqs = batch[0]\n",
    "    answer = batch[1]\n",
    "    \n",
    "    batch_size = seqs.size(0)\n",
    "    labels = torch.zeros(batch_size, n_items + 1)\n",
    "    with torch.no_grad():\n",
    "        scores = model.full_sort_predict(batch)\n",
    "    \n",
    "    row = []\n",
    "    col = []\n",
    "    \n",
    "    for i in range(batch_size):\n",
    "        seq = list(set(seqs[i].tolist()) | set(answer[i].tolist()))\n",
    "        seq.remove(answer[i][0].item())\n",
    "        if 0 in seq:\n",
    "            seq.remove(0)\n",
    "        labels[i][answer[i]] = 1\n",
    "        \n",
    "        row += [i] * len(seq)\n",
    "        col += seq\n",
    "    \n",
    "    scores[row, col] = -1e9\n",
    "    \n",
    "    return scores, labels, answer\n",
    "\n",
    "def calc_metrics(model):\n",
    "    model.eval()\n",
    "    \n",
    "    score_list = []\n",
    "    label_list = []\n",
    "    answer_list = []\n",
    "    \n",
    "    for batch in test_loader:\n",
    "        scores, label, answer = _calculate_batch(batch, model)\n",
    "        score_list.append(scores)\n",
    "        label_list.append(label)\n",
    "        answer_list.append(answer)\n",
    "    \n",
    "    all_score = torch.cat(score_list)\n",
    "    all_label = torch.cat(label_list)\n",
    "    all_answer = torch.cat(answer_list)\n",
    "    \n",
    "    return all_score, all_label, all_answer"
   ]
  },
  {
   "cell_type": "code",
   "execution_count": 15,
   "id": "da99d7bd",
   "metadata": {},
   "outputs": [],
   "source": [
    "def get_partial_metrics(interval, answer, score, label, batch_size=512):\n",
    "    ii = (answer == interval).sum(1)\n",
    "    score1 = score[ii==1]\n",
    "    label1 = label[ii==1]\n",
    "    rating1 = torch.tensor(rating_test)[ii==1]\n",
    "\n",
    "    average_meter_set = AverageMeterSet()\n",
    "    \n",
    "    for s, a, r in zip(score1.split(batch_size), label1.split(batch_size), rating1.split(batch_size)):\n",
    "        s = s.to('cuda')\n",
    "        a = a.to('cuda')\n",
    "        r = r.to('cuda')\n",
    "        metrics = recalls_ndcgs_and_mrr_for_ks(s, a, [5, 10, 20], r)\n",
    "        s.to('cpu')\n",
    "        a.to('cpu')\n",
    "        r.to('cpu')\n",
    "\n",
    "        for k, v in metrics.items():\n",
    "            average_meter_set.update(k, v)\n",
    "            \n",
    "#     del score1, label1, rating1\n",
    "\n",
    "    avg_m = average_meter_set.averages()\n",
    "\n",
    "    return avg_m"
   ]
  },
  {
   "cell_type": "code",
   "execution_count": 16,
   "id": "ce5abcde",
   "metadata": {},
   "outputs": [],
   "source": [
    "def calculate(answer, score, label, interval, batch_size=1024, interested_metrics='Recall@5'):\n",
    "    all_m = {}\n",
    "    for i in range(3):\n",
    "        avg_m = get_partial_metrics(interval[i], answer, score, label, batch_size=batch_size)\n",
    "        \n",
    "        all_m[i] = avg_m\n",
    "\n",
    "    gc.collect()\n",
    "    torch.cuda.empty_cache()\n",
    "\n",
    "    try:\n",
    "        return [all_m[i][interested_metrics] for i in range(3)]\n",
    "    except:\n",
    "        return all_m"
   ]
  },
  {
   "cell_type": "code",
   "execution_count": 17,
   "id": "464f70bb",
   "metadata": {},
   "outputs": [],
   "source": [
    "def build_intervals(proportion):\n",
    "    sorted_items = sorted(popularity.keys(), key=lambda x: -popularity[x])\n",
    "    proportion = [int(np.floor(n_part)) for n_part in np.array(proportion) / sum(proportion) * n_items]\n",
    "    interval = [torch.tensor(l) for l in np.split(sorted_items, np.cumsum(proportion[:-1]))]\n",
    "    \n",
    "    return interval"
   ]
  },
  {
   "cell_type": "code",
   "execution_count": 29,
   "id": "b813e989",
   "metadata": {},
   "outputs": [],
   "source": [
    "def ff(proportion_candidates=[[0.5, 3.5, 6]], interested_metrics='Recall@5'):\n",
    "    figs, axs = plt.subplots(len(proportion_candidates), 5, sharey=True)\n",
    "    \n",
    "    for j, (n, p) in enumerate(path_dict.items()):\n",
    "        model = generate_model(args, args.model_code, dataset, 'cpu')\n",
    "        load_state_from_given_path(model, p, 'cpu', must_exist=True)\n",
    "\n",
    "        score, label, answer = calc_metrics(model)\n",
    "        \n",
    "        for i, pr in enumerate(proportion_candidates):\n",
    "            print(n, pr)\n",
    "            print(answer.size(), score.size(), label.size())\n",
    "            m = calculate(answer, score, label, build_intervals(pr), interested_metrics=interested_metrics)\n",
    "            \n",
    "            if len(proportion_candidates) != 1:\n",
    "                axs[i, j].bar([1, 2, 3], m, width=1, edgecolor='white', linewidth=0.7)\n",
    "                axs[i, j].set(xlim=(0, 4), xticks=[1, 2, 3])\n",
    "\n",
    "                if j == 0:\n",
    "                    axs[i, j].set_title(f'{pr}, {n}')\n",
    "                else:\n",
    "                    axs[i, j].set_title(f'{n}')\n",
    "            else:\n",
    "                axs[j].bar([1, 2, 3], m, width=1, edgecolor='white', linewidth=0.7)\n",
    "                axs[j].set(xlim=(0, 4), xticks=[1, 2, 3])\n",
    "\n",
    "                if j == 0:\n",
    "                    axs[j].set_title(f'{pr}, {n}')\n",
    "                else:\n",
    "                    axs[j].set_title(f'{n}')\n",
    "            \n",
    "            print(m)\n",
    "        \n",
    "        del score, label, answer\n",
    "        gc.collect()\n",
    "        torch.cuda.empty_cache()\n",
    "\n",
    "    plt.show()"
   ]
  },
  {
   "cell_type": "code",
   "execution_count": 25,
   "id": "69a375ef",
   "metadata": {},
   "outputs": [],
   "source": [
    "candidate_partition = [[1, 3, 6], [1, 4, 5], [1, 2, 7], [0.5, 2.5, 7], [0.5, 4.5, 5], [0.1, 2.9, 7]]"
   ]
  },
  {
   "cell_type": "code",
   "execution_count": 26,
   "id": "c55aa116",
   "metadata": {},
   "outputs": [
    {
     "name": "stdout",
     "output_type": "stream",
     "text": [
      "base [1, 3, 6]\n",
      "torch.Size([102187, 1]) torch.Size([102187, 29352]) torch.Size([102187, 29352])\n",
      "base [1, 4, 5]\n",
      "torch.Size([102187, 1]) torch.Size([102187, 29352]) torch.Size([102187, 29352])\n",
      "base [1, 2, 7]\n",
      "torch.Size([102187, 1]) torch.Size([102187, 29352]) torch.Size([102187, 29352])\n",
      "base [0.5, 2.5, 7]\n",
      "torch.Size([102187, 1]) torch.Size([102187, 29352]) torch.Size([102187, 29352])\n",
      "base [0.5, 4.5, 5]\n",
      "torch.Size([102187, 1]) torch.Size([102187, 29352]) torch.Size([102187, 29352])\n",
      "base [0.1, 2.9, 7]\n",
      "torch.Size([102187, 1]) torch.Size([102187, 29352]) torch.Size([102187, 29352])\n",
      "soft [1, 3, 6]\n",
      "torch.Size([102187, 1]) torch.Size([102187, 29352]) torch.Size([102187, 29352])\n",
      "soft [1, 4, 5]\n",
      "torch.Size([102187, 1]) torch.Size([102187, 29352]) torch.Size([102187, 29352])\n",
      "soft [1, 2, 7]\n",
      "torch.Size([102187, 1]) torch.Size([102187, 29352]) torch.Size([102187, 29352])\n",
      "soft [0.5, 2.5, 7]\n",
      "torch.Size([102187, 1]) torch.Size([102187, 29352]) torch.Size([102187, 29352])\n",
      "soft [0.5, 4.5, 5]\n",
      "torch.Size([102187, 1]) torch.Size([102187, 29352]) torch.Size([102187, 29352])\n",
      "soft [0.1, 2.9, 7]\n",
      "torch.Size([102187, 1]) torch.Size([102187, 29352]) torch.Size([102187, 29352])\n",
      "ed [1, 3, 6]\n",
      "torch.Size([102187, 1]) torch.Size([102187, 29352]) torch.Size([102187, 29352])\n",
      "ed [1, 4, 5]\n",
      "torch.Size([102187, 1]) torch.Size([102187, 29352]) torch.Size([102187, 29352])\n",
      "ed [1, 2, 7]\n",
      "torch.Size([102187, 1]) torch.Size([102187, 29352]) torch.Size([102187, 29352])\n",
      "ed [0.5, 2.5, 7]\n",
      "torch.Size([102187, 1]) torch.Size([102187, 29352]) torch.Size([102187, 29352])\n",
      "ed [0.5, 4.5, 5]\n",
      "torch.Size([102187, 1]) torch.Size([102187, 29352]) torch.Size([102187, 29352])\n",
      "ed [0.1, 2.9, 7]\n",
      "torch.Size([102187, 1]) torch.Size([102187, 29352]) torch.Size([102187, 29352])\n",
      "ep [1, 3, 6]\n",
      "torch.Size([102187, 1]) torch.Size([102187, 29352]) torch.Size([102187, 29352])\n",
      "ep [1, 4, 5]\n",
      "torch.Size([102187, 1]) torch.Size([102187, 29352]) torch.Size([102187, 29352])\n",
      "ep [1, 2, 7]\n",
      "torch.Size([102187, 1]) torch.Size([102187, 29352]) torch.Size([102187, 29352])\n",
      "ep [0.5, 2.5, 7]\n",
      "torch.Size([102187, 1]) torch.Size([102187, 29352]) torch.Size([102187, 29352])\n",
      "ep [0.5, 4.5, 5]\n",
      "torch.Size([102187, 1]) torch.Size([102187, 29352]) torch.Size([102187, 29352])\n",
      "ep [0.1, 2.9, 7]\n",
      "torch.Size([102187, 1]) torch.Size([102187, 29352]) torch.Size([102187, 29352])\n",
      "dvae [1, 3, 6]\n",
      "torch.Size([102187, 1]) torch.Size([102187, 29352]) torch.Size([102187, 29352])\n",
      "dvae [1, 4, 5]\n",
      "torch.Size([102187, 1]) torch.Size([102187, 29352]) torch.Size([102187, 29352])\n",
      "dvae [1, 2, 7]\n",
      "torch.Size([102187, 1]) torch.Size([102187, 29352]) torch.Size([102187, 29352])\n",
      "dvae [0.5, 2.5, 7]\n",
      "torch.Size([102187, 1]) torch.Size([102187, 29352]) torch.Size([102187, 29352])\n",
      "dvae [0.5, 4.5, 5]\n",
      "torch.Size([102187, 1]) torch.Size([102187, 29352]) torch.Size([102187, 29352])\n",
      "dvae [0.1, 2.9, 7]\n",
      "torch.Size([102187, 1]) torch.Size([102187, 29352]) torch.Size([102187, 29352])\n"
     ]
    },
    {
     "data": {
      "image/png": "[encoded data removed]",
      "text/plain": [
       "<Figure size 432x288 with 30 Axes>"
      ]
     },
     "metadata": {
      "needs_background": "light"
     },
     "output_type": "display_data"
    }
   ],
   "source": [
    "ff(candidate_partition)"
   ]
  },
  {
   "cell_type": "code",
   "execution_count": 30,
   "id": "e7110ff2",
   "metadata": {},
   "outputs": [
    {
     "name": "stdout",
     "output_type": "stream",
     "text": [
      "base [1, 2, 7]\n",
      "torch.Size([102187, 1]) torch.Size([102187, 29352]) torch.Size([102187, 29352])\n",
      "[0.041273372749296516, 0.013966679330105368, 0.02715997569836103]\n",
      "soft [1, 2, 7]\n",
      "torch.Size([102187, 1]) torch.Size([102187, 29352]) torch.Size([102187, 29352])\n",
      "[0.06415489337478693, 0.012203415734288485, 0.005133177834348037]\n",
      "ed [1, 2, 7]\n",
      "torch.Size([102187, 1]) torch.Size([102187, 29352]) torch.Size([102187, 29352])\n",
      "[0.06074693311865513, 0.012980104606274677, 0.013417218596889423]\n",
      "ep [1, 2, 7]\n",
      "torch.Size([102187, 1]) torch.Size([102187, 29352]) torch.Size([102187, 29352])\n",
      "[0.060169812148580186, 0.014116491838965727, 0.012323790731338354]\n",
      "dvae [1, 2, 7]\n",
      "torch.Size([102187, 1]) torch.Size([102187, 29352]) torch.Size([102187, 29352])\n",
      "[0.059607647717572175, 0.013044998636874168, 0.015453834050836472]\n"
     ]
    },
    {
     "data": {
      "image/png": "[encoded data removed]",
      "text/plain": [
       "<Figure size 432x288 with 5 Axes>"
      ]
     },
     "metadata": {
      "needs_background": "light"
     },
     "output_type": "display_data"
    }
   ],
   "source": [
    "ff([[1, 2, 7]])"
   ]
  },
  {
   "cell_type": "code",
   "execution_count": null,
   "id": "6fd9d55e",
   "metadata": {},
   "outputs": [],
   "source": [
    "# base_model = generate_model(args, args.model_code, dataset, 'cpu')\n",
    "# load_state_from_given_path(base_model, base_model_path, 'cpu', must_exist=True)"
   ]
  },
  {
   "cell_type": "code",
   "execution_count": null,
   "id": "7fc7f5bb",
   "metadata": {},
   "outputs": [],
   "source": [
    "# score, label, answer = calc_metrics(base_model)"
   ]
  },
  {
   "cell_type": "code",
   "execution_count": null,
   "id": "a91a29e5",
   "metadata": {},
   "outputs": [],
   "source": [
    "# all_m = {}\n",
    "# for i in range(3):\n",
    "#     avg_m = get_partial_metrics(interval[i], base_model, batch_size=1024)\n",
    "    \n",
    "#     all_m[i] = avg_m"
   ]
  },
  {
   "cell_type": "code",
   "execution_count": null,
   "id": "0dffca63",
   "metadata": {},
   "outputs": [],
   "source": [
    "# ndcg5 = [all_m[i]['Recall@5'] for i in range(3)]"
   ]
  },
  {
   "cell_type": "code",
   "execution_count": null,
   "id": "29d98d4e",
   "metadata": {
    "scrolled": true
   },
   "outputs": [],
   "source": [
    "# fig, ax = plt.subplots()\n",
    "\n",
    "# ax.bar([1, 2, 3], ndcg5, width=1, edgecolor='white', linewidth=0.7)\n",
    "\n",
    "# ax.set(xlim=(0, 4), xticks=[1, 2, 3])\n",
    "\n",
    "# plt.show()"
   ]
  },
  {
   "cell_type": "code",
   "execution_count": null,
   "id": "1c388deb",
   "metadata": {},
   "outputs": [],
   "source": []
  }
 ],
 "metadata": {
  "kernelspec": {
   "display_name": "Python 3 (ipykernel)",
   "language": "python",
   "name": "python3"
  },
  "language_info": {
   "codemirror_mode": {
    "name": "ipython",
    "version": 3
   },
   "file_extension": ".py",
   "mimetype": "text/x-python",
   "name": "python",
   "nbconvert_exporter": "python",
   "pygments_lexer": "ipython3",
   "version": "3.9.7"
  },
  "varInspector": {
   "cols": {
    "lenName": 16,
    "lenType": 16,
    "lenVar": 40
   },
   "kernels_config": {
    "python": {
     "delete_cmd_postfix": "",
     "delete_cmd_prefix": "del ",
     "library": "var_list.py",
     "varRefreshCmd": "print(var_dic_list())"
    },
    "r": {
     "delete_cmd_postfix": ") ",
     "delete_cmd_prefix": "rm(",
     "library": "var_list.r",
     "varRefreshCmd": "cat(var_dic_list()) "
    }
   },
   "types_to_exclude": [
    "module",
    "function",
    "builtin_function_or_method",
    "instance",
    "_Feature"
   ],
   "window_display": false
  }
 },
 "nbformat": 4,
 "nbformat_minor": 5
}
