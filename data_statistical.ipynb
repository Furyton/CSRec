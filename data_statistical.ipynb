{
 "cells": [
  {
   "cell_type": "code",
   "execution_count": 1,
   "metadata": {},
   "outputs": [],
   "source": [
    "import pandas as pd"
   ]
  },
  {
   "cell_type": "code",
   "execution_count": 2,
   "metadata": {},
   "outputs": [],
   "source": [
    "electronics = \"./Data/electronics.csv\"\n",
    "movies = \"./Data/movies.csv\""
   ]
  },
  {
   "cell_type": "code",
   "execution_count": 3,
   "metadata": {},
   "outputs": [],
   "source": [
    "el = pd.read_csv(electronics)\n",
    "movies = pd.read_csv(movies)"
   ]
  },
  {
   "cell_type": "code",
   "execution_count": 6,
   "metadata": {},
   "outputs": [
    {
     "data": {
      "text/html": [
       "<div>\n",
       "<style scoped>\n",
       "    .dataframe tbody tr th:only-of-type {\n",
       "        vertical-align: middle;\n",
       "    }\n",
       "\n",
       "    .dataframe tbody tr th {\n",
       "        vertical-align: top;\n",
       "    }\n",
       "\n",
       "    .dataframe thead th {\n",
       "        text-align: right;\n",
       "    }\n",
       "</style>\n",
       "<table border=\"1\" class=\"dataframe\">\n",
       "  <thead>\n",
       "    <tr style=\"text-align: right;\">\n",
       "      <th></th>\n",
       "      <th>session_id</th>\n",
       "      <th>item_id</th>\n",
       "      <th>timestamp</th>\n",
       "      <th>rating</th>\n",
       "    </tr>\n",
       "  </thead>\n",
       "  <tbody>\n",
       "    <tr>\n",
       "      <th>count</th>\n",
       "      <td>625813.000000</td>\n",
       "      <td>625813.000000</td>\n",
       "      <td>6.258130e+05</td>\n",
       "      <td>625813.000000</td>\n",
       "    </tr>\n",
       "    <tr>\n",
       "      <th>mean</th>\n",
       "      <td>24008.591440</td>\n",
       "      <td>10551.516405</td>\n",
       "      <td>1.248308e+09</td>\n",
       "      <td>0.746054</td>\n",
       "    </tr>\n",
       "    <tr>\n",
       "      <th>std</th>\n",
       "      <td>13761.445626</td>\n",
       "      <td>6037.265784</td>\n",
       "      <td>1.306378e+08</td>\n",
       "      <td>0.435268</td>\n",
       "    </tr>\n",
       "    <tr>\n",
       "      <th>min</th>\n",
       "      <td>1.000000</td>\n",
       "      <td>1.000000</td>\n",
       "      <td>8.837856e+08</td>\n",
       "      <td>0.000000</td>\n",
       "    </tr>\n",
       "    <tr>\n",
       "      <th>25%</th>\n",
       "      <td>12032.000000</td>\n",
       "      <td>5339.000000</td>\n",
       "      <td>1.143245e+09</td>\n",
       "      <td>0.000000</td>\n",
       "    </tr>\n",
       "    <tr>\n",
       "      <th>50%</th>\n",
       "      <td>24077.000000</td>\n",
       "      <td>10496.000000</td>\n",
       "      <td>1.277338e+09</td>\n",
       "      <td>1.000000</td>\n",
       "    </tr>\n",
       "    <tr>\n",
       "      <th>75%</th>\n",
       "      <td>35856.000000</td>\n",
       "      <td>15826.000000</td>\n",
       "      <td>1.367280e+09</td>\n",
       "      <td>1.000000</td>\n",
       "    </tr>\n",
       "    <tr>\n",
       "      <th>max</th>\n",
       "      <td>47966.000000</td>\n",
       "      <td>21035.000000</td>\n",
       "      <td>1.406074e+09</td>\n",
       "      <td>1.000000</td>\n",
       "    </tr>\n",
       "  </tbody>\n",
       "</table>\n",
       "</div>"
      ],
      "text/plain": [
       "          session_id        item_id     timestamp         rating\n",
       "count  625813.000000  625813.000000  6.258130e+05  625813.000000\n",
       "mean    24008.591440   10551.516405  1.248308e+09       0.746054\n",
       "std     13761.445626    6037.265784  1.306378e+08       0.435268\n",
       "min         1.000000       1.000000  8.837856e+08       0.000000\n",
       "25%     12032.000000    5339.000000  1.143245e+09       0.000000\n",
       "50%     24077.000000   10496.000000  1.277338e+09       1.000000\n",
       "75%     35856.000000   15826.000000  1.367280e+09       1.000000\n",
       "max     47966.000000   21035.000000  1.406074e+09       1.000000"
      ]
     },
     "execution_count": 6,
     "metadata": {},
     "output_type": "execute_result"
    }
   ],
   "source": [
    "movies.describe()"
   ]
  }
 ],
 "metadata": {
  "interpreter": {
   "hash": "808aab110c6fed9b9dbf71336221406782a6c598bc80bd8effad398419753fd7"
  },
  "kernelspec": {
   "display_name": "Python 3.9.7 ('pytorch_11.3')",
   "language": "python",
   "name": "python3"
  },
  "language_info": {
   "codemirror_mode": {
    "name": "ipython",
    "version": 3
   },
   "file_extension": ".py",
   "mimetype": "text/x-python",
   "name": "python",
   "nbconvert_exporter": "python",
   "pygments_lexer": "ipython3",
   "version": "3.9.7"
  },
  "orig_nbformat": 4
 },
 "nbformat": 4,
 "nbformat_minor": 2
}
