{
 "cells": [
  {
   "cell_type": "code",
   "execution_count": 1,
   "id": "2c7898fd",
   "metadata": {},
   "outputs": [],
   "source": [
    "import pandas as pd\n",
    "import numpy as np\n",
    "import pickle\n",
    "import os"
   ]
  },
  {
   "cell_type": "code",
   "execution_count": 2,
   "id": "63b4b725",
   "metadata": {},
   "outputs": [],
   "source": [
    "# file_path = \"./lastfm-dataset-1K/userid-timestamp-artid-artname-traid-traname.tsv\"\n",
    "\n",
    "# df = pd.read_csv(\n",
    "#     file_path, sep='\\t', header=None,\n",
    "#     names=[\n",
    "#         'user_id', 'timestamp', 'artist_id', 'artist_name', 'track_id', 'track_name'\n",
    "#     ],\n",
    "#     skiprows=[\n",
    "#         2120260-1, 2446318-1, 11141081-1,\n",
    "#         11152099-1, 11152402-1, 11882087-1,\n",
    "#         12902539-1, 12935044-1, 17589539-1\n",
    "#     ]\n",
    "# )\n",
    "# df[\"timestamp\"] = pd.to_datetime(df.timestamp)\n",
    "# df.sort_values(['user_id', 'timestamp'], ascending=True, inplace=True)\n",
    "# print(f'Number of Records: {len(df):,}\\nUnique Users: {df.user_id.nunique()}\\nUnique Artist:{df.artist_id.nunique():,}')\n",
    "# df.head(5)"
   ]
  },
  {
   "cell_type": "code",
   "execution_count": 3,
   "id": "8e1a4a30",
   "metadata": {},
   "outputs": [],
   "source": [
    "# save_filepath = os.path.join(\"./lastfm-dataset-1K\", 'lastfm-dataset-1k.snappy.parquet')\n",
    "\n",
    "# df.to_parquet(save_filepath, compression='GZIP', index=False)"
   ]
  },
  {
   "cell_type": "code",
   "execution_count": 4,
   "id": "9bf71a4a",
   "metadata": {},
   "outputs": [],
   "source": [
    "# save_filepath = os.path.join(\"./lastfm-dataset-1K\", 'lastfm-dataset-1k.snappy.parquet')\n",
    "\n",
    "# df = pd.read_parquet(save_filepath)\n",
    "# print(f'Number of Records: {len(df):,}\\nUnique Users: {df.user_id.nunique()}\\nUnique Artist:{df.artist_id.nunique():,}')\n",
    "# df.head(5)"
   ]
  },
  {
   "cell_type": "code",
   "execution_count": 5,
   "id": "9941c00b",
   "metadata": {},
   "outputs": [],
   "source": [
    "# df = df.loc[:, [\"user_id\", \"timstamp\", \"track_id\"]]\n",
    "# data = df[df.track_id == np.nan]\n",
    "\n",
    "# data.to_csv(\"lastfm_1k_user_brief_no_nan_dataset.csv\", index=False)"
   ]
  },
  {
   "cell_type": "code",
   "execution_count": 6,
   "id": "58613f8a",
   "metadata": {},
   "outputs": [],
   "source": [
    "data = pd.read_csv(\"lastfm_1k_user_brief_no_nan_dataset.csv\")\n",
    "\n",
    "data[\"timestamp\"] = pd.to_datetime(data.timestamp)"
   ]
  },
  {
   "cell_type": "code",
   "execution_count": 7,
   "id": "60b76704",
   "metadata": {},
   "outputs": [],
   "source": [
    "n_track = data.track_id.nunique()\n",
    "\n",
    "n_chosen_track = 200000\n",
    "\n",
    "chosen_track = data.track_id.unique()[np.random.choice(range(n_track), n_chosen_track, replace=False)]\n",
    "\n",
    "filter_data = data[data.track_id.isin(chosen_track)]"
   ]
  },
  {
   "cell_type": "code",
   "execution_count": 8,
   "id": "c5eea426",
   "metadata": {},
   "outputs": [],
   "source": [
    "filter_data = filter_data.reset_index(drop=True)"
   ]
  },
  {
   "cell_type": "code",
   "execution_count": 9,
   "id": "ae45bd54",
   "metadata": {},
   "outputs": [
    {
     "data": {
      "text/html": [
       "<div>\n",
       "<style scoped>\n",
       "    .dataframe tbody tr th:only-of-type {\n",
       "        vertical-align: middle;\n",
       "    }\n",
       "\n",
       "    .dataframe tbody tr th {\n",
       "        vertical-align: top;\n",
       "    }\n",
       "\n",
       "    .dataframe thead th {\n",
       "        text-align: right;\n",
       "    }\n",
       "</style>\n",
       "<table border=\"1\" class=\"dataframe\">\n",
       "  <thead>\n",
       "    <tr style=\"text-align: right;\">\n",
       "      <th></th>\n",
       "      <th>user_id</th>\n",
       "      <th>timestamp</th>\n",
       "      <th>track_id</th>\n",
       "    </tr>\n",
       "  </thead>\n",
       "  <tbody>\n",
       "    <tr>\n",
       "      <th>0</th>\n",
       "      <td>user_000001</td>\n",
       "      <td>2006-08-13 15:17:35+00:00</td>\n",
       "      <td>4c7d5a2c-e1da-4fe3-96e3-c40a7a6f59e8</td>\n",
       "    </tr>\n",
       "    <tr>\n",
       "      <th>1</th>\n",
       "      <td>user_000001</td>\n",
       "      <td>2006-08-13 15:23:08+00:00</td>\n",
       "      <td>6cb57d5e-da03-4bcd-b7b5-b08023890b42</td>\n",
       "    </tr>\n",
       "    <tr>\n",
       "      <th>2</th>\n",
       "      <td>user_000001</td>\n",
       "      <td>2006-08-13 15:36:22+00:00</td>\n",
       "      <td>df8c41f0-1c02-4060-81ca-035ef3085663</td>\n",
       "    </tr>\n",
       "    <tr>\n",
       "      <th>3</th>\n",
       "      <td>user_000001</td>\n",
       "      <td>2006-08-13 16:00:07+00:00</td>\n",
       "      <td>1c061863-1d3e-4066-aa93-5c9ce0bf72f2</td>\n",
       "    </tr>\n",
       "    <tr>\n",
       "      <th>4</th>\n",
       "      <td>user_000001</td>\n",
       "      <td>2006-08-13 17:56:14+00:00</td>\n",
       "      <td>9b0d3374-7968-4844-9bac-8b9397eccd42</td>\n",
       "    </tr>\n",
       "    <tr>\n",
       "      <th>...</th>\n",
       "      <td>...</td>\n",
       "      <td>...</td>\n",
       "      <td>...</td>\n",
       "    </tr>\n",
       "    <tr>\n",
       "      <th>3492302</th>\n",
       "      <td>user_001000</td>\n",
       "      <td>2009-05-02 18:42:49+00:00</td>\n",
       "      <td>d314d6d3-1cc7-4976-b432-5affe383a4dd</td>\n",
       "    </tr>\n",
       "    <tr>\n",
       "      <th>3492303</th>\n",
       "      <td>user_001000</td>\n",
       "      <td>2009-05-02 18:54:58+00:00</td>\n",
       "      <td>c0aa6407-7075-4345-9267-f26edc566a33</td>\n",
       "    </tr>\n",
       "    <tr>\n",
       "      <th>3492304</th>\n",
       "      <td>user_001000</td>\n",
       "      <td>2009-05-02 19:01:02+00:00</td>\n",
       "      <td>d0b89e4c-1b2d-4a52-807c-838ed2748198</td>\n",
       "    </tr>\n",
       "    <tr>\n",
       "      <th>3492305</th>\n",
       "      <td>user_001000</td>\n",
       "      <td>2009-05-03 03:55:48+00:00</td>\n",
       "      <td>8e88b199-70b7-4bbc-a673-2dfd3234e1a5</td>\n",
       "    </tr>\n",
       "    <tr>\n",
       "      <th>3492306</th>\n",
       "      <td>user_001000</td>\n",
       "      <td>2009-05-04 09:00:33+00:00</td>\n",
       "      <td>9722b7e6-aad2-4175-a449-e32b595917bc</td>\n",
       "    </tr>\n",
       "  </tbody>\n",
       "</table>\n",
       "<p>3492307 rows × 3 columns</p>\n",
       "</div>"
      ],
      "text/plain": [
       "             user_id                 timestamp  \\\n",
       "0        user_000001 2006-08-13 15:17:35+00:00   \n",
       "1        user_000001 2006-08-13 15:23:08+00:00   \n",
       "2        user_000001 2006-08-13 15:36:22+00:00   \n",
       "3        user_000001 2006-08-13 16:00:07+00:00   \n",
       "4        user_000001 2006-08-13 17:56:14+00:00   \n",
       "...              ...                       ...   \n",
       "3492302  user_001000 2009-05-02 18:42:49+00:00   \n",
       "3492303  user_001000 2009-05-02 18:54:58+00:00   \n",
       "3492304  user_001000 2009-05-02 19:01:02+00:00   \n",
       "3492305  user_001000 2009-05-03 03:55:48+00:00   \n",
       "3492306  user_001000 2009-05-04 09:00:33+00:00   \n",
       "\n",
       "                                     track_id  \n",
       "0        4c7d5a2c-e1da-4fe3-96e3-c40a7a6f59e8  \n",
       "1        6cb57d5e-da03-4bcd-b7b5-b08023890b42  \n",
       "2        df8c41f0-1c02-4060-81ca-035ef3085663  \n",
       "3        1c061863-1d3e-4066-aa93-5c9ce0bf72f2  \n",
       "4        9b0d3374-7968-4844-9bac-8b9397eccd42  \n",
       "...                                       ...  \n",
       "3492302  d314d6d3-1cc7-4976-b432-5affe383a4dd  \n",
       "3492303  c0aa6407-7075-4345-9267-f26edc566a33  \n",
       "3492304  d0b89e4c-1b2d-4a52-807c-838ed2748198  \n",
       "3492305  8e88b199-70b7-4bbc-a673-2dfd3234e1a5  \n",
       "3492306  9722b7e6-aad2-4175-a449-e32b595917bc  \n",
       "\n",
       "[3492307 rows x 3 columns]"
      ]
     },
     "execution_count": 9,
     "metadata": {},
     "output_type": "execute_result"
    }
   ],
   "source": [
    "filter_data"
   ]
  },
  {
   "cell_type": "code",
   "execution_count": 10,
   "id": "a0c2e5c6",
   "metadata": {},
   "outputs": [],
   "source": [
    "n_inter = len(filter_data)\n",
    "\n",
    "session_len = 20\n",
    "\n",
    "seperator = np.array(range(n_inter)) // session_len"
   ]
  },
  {
   "cell_type": "code",
   "execution_count": 11,
   "id": "ccf4d41b",
   "metadata": {},
   "outputs": [],
   "source": [
    "last = 0\n",
    "\n",
    "time_interval = \"05:0:00\"\n",
    "\n",
    "def process1(ee: pd.DataFrame):\n",
    "    global last\n",
    "    \n",
    "    ee.insert(0, \"sep\", seperator[:len(ee)] + last + 1)\n",
    "    last = seperator[len(ee) - 1] + last + 1\n",
    "    \n",
    "    return ee\n",
    "\n",
    "def process2(ee: pd.DataFrame):\n",
    "    ee.insert(0, \"keep\", len(ee) >= 5 and ee.timestamp.max() - ee.timestamp.min() < pd.Timedelta(time_interval))\n",
    "    \n",
    "    return ee"
   ]
  },
  {
   "cell_type": "code",
   "execution_count": 12,
   "id": "d32de4b3",
   "metadata": {},
   "outputs": [],
   "source": [
    "split_dataset = filter_data.groupby(\"user_id\").apply(lambda x: process1(x))"
   ]
  },
  {
   "cell_type": "code",
   "execution_count": 13,
   "id": "e766c93d",
   "metadata": {},
   "outputs": [],
   "source": [
    "kept_dataset = split_dataset.groupby(\"sep\").apply(lambda x: process2(x))"
   ]
  },
  {
   "cell_type": "code",
   "execution_count": 14,
   "id": "9baefd28",
   "metadata": {},
   "outputs": [],
   "source": [
    "final_dataset = kept_dataset[kept_dataset.keep]\n",
    "\n",
    "final_dataset = final_dataset.reset_index(drop=True).drop(columns=[\"keep\"])"
   ]
  },
  {
   "cell_type": "code",
   "execution_count": 15,
   "id": "b40fc5b8",
   "metadata": {},
   "outputs": [
    {
     "data": {
      "text/plain": [
       "35265"
      ]
     },
     "execution_count": 15,
     "metadata": {},
     "output_type": "execute_result"
    }
   ],
   "source": [
    "final_dataset.track_id.nunique()"
   ]
  },
  {
   "cell_type": "code",
   "execution_count": 21,
   "id": "6a9517a1",
   "metadata": {},
   "outputs": [
    {
     "data": {
      "text/plain": [
       "551"
      ]
     },
     "execution_count": 21,
     "metadata": {},
     "output_type": "execute_result"
    }
   ],
   "source": [
    "final_dataset.user_id.nunique()"
   ]
  },
  {
   "cell_type": "code",
   "execution_count": 27,
   "id": "282f61a7",
   "metadata": {},
   "outputs": [
    {
     "data": {
      "text/plain": [
       "178218"
      ]
     },
     "execution_count": 27,
     "metadata": {},
     "output_type": "execute_result"
    }
   ],
   "source": [
    "len(final_dataset)"
   ]
  },
  {
   "cell_type": "code",
   "execution_count": 25,
   "id": "4f7886f0",
   "metadata": {},
   "outputs": [],
   "source": [
    "final_dataset = final_dataset.drop(columns=[\"user_id\"]).rename(columns={\"sep\": \"session_id\", \"track_id\": \"item_id\"})"
   ]
  },
  {
   "cell_type": "code",
   "execution_count": 28,
   "id": "a63a0ce0",
   "metadata": {},
   "outputs": [],
   "source": [
    "final_dataset.to_csv(\"lastfm_1k_user_35k_item_178k_inters.csv\", index=False)"
   ]
  }
 ],
 "metadata": {
  "kernelspec": {
   "display_name": "Python 3 (ipykernel)",
   "language": "python",
   "name": "python3"
  },
  "language_info": {
   "codemirror_mode": {
    "name": "ipython",
    "version": 3
   },
   "file_extension": ".py",
   "mimetype": "text/x-python",
   "name": "python",
   "nbconvert_exporter": "python",
   "pygments_lexer": "ipython3",
   "version": "3.9.7"
  },
  "varInspector": {
   "cols": {
    "lenName": 16,
    "lenType": 16,
    "lenVar": 40
   },
   "kernels_config": {
    "python": {
     "delete_cmd_postfix": "",
     "delete_cmd_prefix": "del ",
     "library": "var_list.py",
     "varRefreshCmd": "print(var_dic_list())"
    },
    "r": {
     "delete_cmd_postfix": ") ",
     "delete_cmd_prefix": "rm(",
     "library": "var_list.r",
     "varRefreshCmd": "cat(var_dic_list()) "
    }
   },
   "types_to_exclude": [
    "module",
    "function",
    "builtin_function_or_method",
    "instance",
    "_Feature"
   ],
   "window_display": false
  }
 },
 "nbformat": 4,
 "nbformat_minor": 5
}
