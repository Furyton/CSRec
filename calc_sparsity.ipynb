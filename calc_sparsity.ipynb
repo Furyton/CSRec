{
 "cells": [
  {
   "cell_type": "code",
   "execution_count": 8,
   "metadata": {},
   "outputs": [],
   "source": [
    "import pandas as pd"
   ]
  },
  {
   "cell_type": "code",
   "execution_count": 9,
   "metadata": {},
   "outputs": [],
   "source": [
    "rate_list = [0.2, 0.4, 0.6, 0.8]\n",
    "data_path = \"Data/lastfm_small\""
   ]
  },
  {
   "cell_type": "code",
   "execution_count": 10,
   "metadata": {},
   "outputs": [],
   "source": [
    "df = pd.read_csv(data_path + '.csv')\n",
    "\n",
    "n_users = df.session_id.nunique()\n",
    "n_items = df.item_id.nunique()\n",
    "n_interaction = len(df)\n",
    "\n",
    "sparsity = 1 - n_interaction / (n_users * n_items)"
   ]
  },
  {
   "cell_type": "code",
   "execution_count": 11,
   "metadata": {},
   "outputs": [],
   "source": [
    "def calc(df):\n",
    "    n_users = df.session_id.nunique()\n",
    "    n_items = df.item_id.nunique()\n",
    "    n_interaction = len(df)\n",
    "\n",
    "    sparsity = 1 - n_interaction / (n_users * n_items)\n",
    "\n",
    "    return sparsity"
   ]
  },
  {
   "cell_type": "code",
   "execution_count": 12,
   "metadata": {},
   "outputs": [
    {
     "name": "stdout",
     "output_type": "stream",
     "text": [
      "0.9867767617648094\n"
     ]
    }
   ],
   "source": [
    "print(calc(pd.read_csv(data_path + '.csv')))"
   ]
  },
  {
   "cell_type": "code",
   "execution_count": 13,
   "metadata": {},
   "outputs": [
    {
     "name": "stdout",
     "output_type": "stream",
     "text": [
      "0.2 0.961638065391193\n",
      "0.4 0.9673737349368524\n",
      "0.6 0.9712908405038034\n",
      "0.8 0.9738083404571148\n"
     ]
    }
   ],
   "source": [
    "for r in rate_list:\n",
    "    p = data_path + '_' + str(r) + '.csv'\n",
    "    df = pd.read_csv(p)\n",
    "    print(r, calc(df))"
   ]
  }
 ],
 "metadata": {
  "kernelspec": {
   "display_name": "Python 3.9.13 ('cap')",
   "language": "python",
   "name": "python3"
  },
  "language_info": {
   "codemirror_mode": {
    "name": "ipython",
    "version": 3
   },
   "file_extension": ".py",
   "mimetype": "text/x-python",
   "name": "python",
   "nbconvert_exporter": "python",
   "pygments_lexer": "ipython3",
   "version": "3.9.13"
  },
  "orig_nbformat": 4,
  "vscode": {
   "interpreter": {
    "hash": "5574de1fe0ea64ed0c4117f2b7d91c2aabdbb3b4c3dc938b3bbdee825c0d163e"
   }
  }
 },
 "nbformat": 4,
 "nbformat_minor": 2
}
