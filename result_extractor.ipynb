{
 "cells": [
  {
   "cell_type": "code",
   "execution_count": 1,
   "metadata": {},
   "outputs": [],
   "source": [
    "from pathlib import Path\n",
    "import json\n",
    "import pandas as pd"
   ]
  },
  {
   "cell_type": "code",
   "execution_count": 2,
   "metadata": {},
   "outputs": [],
   "source": [
    "BASE_PATH=\"/data01/wushiguang-slurm/Codes/soft-rec/___ablation_nit_movies_dvae\"\n",
    "FIRST_KEY=\"nextitnet\"\n",
    "SECOND_KEY=\"student\"\n",
    "METRIC_LIST=[\"NDCG@10\", \"NDCG*@10\", \"Recall@10\", \"Recall*@10\"]\n",
    "INDEX=['term']"
   ]
  },
  {
   "cell_type": "code",
   "execution_count": 3,
   "metadata": {},
   "outputs": [],
   "source": [
    "def dir_finder(path: Path, keyword):\n",
    "    for child in path.iterdir():\n",
    "        if child.is_dir() and keyword in child.name:\n",
    "            yield child"
   ]
  },
  {
   "cell_type": "code",
   "execution_count": 4,
   "metadata": {},
   "outputs": [],
   "source": [
    "result = pd.DataFrame(columns=INDEX+METRIC_LIST)"
   ]
  },
  {
   "cell_type": "code",
   "execution_count": 5,
   "metadata": {},
   "outputs": [],
   "source": [
    "for root in dir_finder(Path(BASE_PATH), FIRST_KEY):\n",
    "    config = root.joinpath(\"config.json\")\n",
    "    if not config.exists():\n",
    "        raise FileNotFoundError(config)\n",
    "    \n",
    "    value_dict = {}\n",
    "    with config.open('r') as f:\n",
    "        cfg = json.load(f)\n",
    "    for key in INDEX:\n",
    "        value_dict[key] = cfg[key]\n",
    "    \n",
    "    for d in dir_finder(root, SECOND_KEY):\n",
    "        metrics = d.joinpath(\"test_metrics.json\")\n",
    "        if not metrics.exists():\n",
    "            raise FileNotFoundError(metrics)\n",
    "        \n",
    "        with metrics.open('r') as f:\n",
    "            mtrc = json.load(f)\n",
    "        for key in METRIC_LIST:\n",
    "            value_dict[key] = mtrc[key]\n",
    "    \n",
    "    result = result.append(value_dict, ignore_index=True)\n"
   ]
  },
  {
   "cell_type": "code",
   "execution_count": 6,
   "metadata": {},
   "outputs": [
    {
     "data": {
      "text/html": [
       "<div>\n",
       "<style scoped>\n",
       "    .dataframe tbody tr th:only-of-type {\n",
       "        vertical-align: middle;\n",
       "    }\n",
       "\n",
       "    .dataframe tbody tr th {\n",
       "        vertical-align: top;\n",
       "    }\n",
       "\n",
       "    .dataframe thead th {\n",
       "        text-align: right;\n",
       "    }\n",
       "</style>\n",
       "<table border=\"1\" class=\"dataframe\">\n",
       "  <thead>\n",
       "    <tr style=\"text-align: right;\">\n",
       "      <th></th>\n",
       "      <th>term</th>\n",
       "      <th>NDCG@10</th>\n",
       "      <th>NDCG*@10</th>\n",
       "      <th>Recall@10</th>\n",
       "      <th>Recall*@10</th>\n",
       "    </tr>\n",
       "  </thead>\n",
       "  <tbody>\n",
       "    <tr>\n",
       "      <th>0</th>\n",
       "      <td>without</td>\n",
       "      <td>0.051273</td>\n",
       "      <td>0.052772</td>\n",
       "      <td>0.084147</td>\n",
       "      <td>0.085599</td>\n",
       "    </tr>\n",
       "    <tr>\n",
       "      <th>1</th>\n",
       "      <td>with</td>\n",
       "      <td>0.050629</td>\n",
       "      <td>0.051969</td>\n",
       "      <td>0.084039</td>\n",
       "      <td>0.085516</td>\n",
       "    </tr>\n",
       "  </tbody>\n",
       "</table>\n",
       "</div>"
      ],
      "text/plain": [
       "      term   NDCG@10  NDCG*@10  Recall@10  Recall*@10\n",
       "0  without  0.051273  0.052772   0.084147    0.085599\n",
       "1     with  0.050629  0.051969   0.084039    0.085516"
      ]
     },
     "execution_count": 6,
     "metadata": {},
     "output_type": "execute_result"
    }
   ],
   "source": [
    "# result.sort_values(by=['sample_rate', 'n_teacher'])\n",
    "result"
   ]
  }
 ],
 "metadata": {
  "interpreter": {
   "hash": "808aab110c6fed9b9dbf71336221406782a6c598bc80bd8effad398419753fd7"
  },
  "kernelspec": {
   "display_name": "Python 3.9.7 ('pytorch_11.3')",
   "language": "python",
   "name": "python3"
  },
  "language_info": {
   "codemirror_mode": {
    "name": "ipython",
    "version": 3
   },
   "file_extension": ".py",
   "mimetype": "text/x-python",
   "name": "python",
   "nbconvert_exporter": "python",
   "pygments_lexer": "ipython3",
   "version": "3.9.7"
  },
  "orig_nbformat": 4
 },
 "nbformat": 4,
 "nbformat_minor": 2
}
