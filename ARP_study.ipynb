{
 "cells": [
  {
   "cell_type": "code",
   "execution_count": 1,
   "id": "b410e6ca",
   "metadata": {
    "scrolled": true
   },
   "outputs": [
    {
     "name": "stdout",
     "output_type": "stream",
     "text": [
      "The Zen of Python, by Tim Peters\n",
      "\n",
      "Beautiful is better than ugly.\n",
      "Explicit is better than implicit.\n",
      "Simple is better than complex.\n",
      "Complex is better than complicated.\n",
      "Flat is better than nested.\n",
      "Sparse is better than dense.\n",
      "Readability counts.\n",
      "Special cases aren't special enough to break the rules.\n",
      "Although practicality beats purity.\n",
      "Errors should never pass silently.\n",
      "Unless explicitly silenced.\n",
      "In the face of ambiguity, refuse the temptation to guess.\n",
      "There should be one-- and preferably only one --obvious way to do it.\n",
      "Although that way may not be obvious at first unless you're Dutch.\n",
      "Now is better than never.\n",
      "Although never is often better than *right* now.\n",
      "If the implementation is hard to explain, it's a bad idea.\n",
      "If the implementation is easy to explain, it may be a good idea.\n",
      "Namespaces are one honking great idea -- let's do more of those!\n"
     ]
    }
   ],
   "source": [
    "import os\n",
    "import argparse\n",
    "import json\n",
    "from os import path\n",
    "from copy import deepcopy\n",
    "\n",
    "from utils import *\n",
    "\n",
    "from dataloaders import dataloader_factory\n",
    "from scheduler.utils import *\n",
    "\n",
    "from collections import Counter\n",
    "from tqdm import tqdm"
   ]
  },
  {
   "cell_type": "code",
   "execution_count": 2,
   "id": "b142c3e6",
   "metadata": {},
   "outputs": [],
   "source": [
    "# config_path = \"/data01/wushiguang-slurm/storage01/___lfms_base_2022/base_gru4rec_02-25_11:06_0/config.json\"\n",
    "# data_path = \"./Data/Cache/lastfm_small-5-5.pkl\"\n",
    "# base_model_path = \"/data01/wushiguang-slurm/storage/___lfms_base_2022/base_gru4rec_02-25_11:06_0/gru4rec_logs/checkpoint/best_acc_model.pth\"\n",
    "# soft_model_path = \"/data01/wushiguang-slurm/storage/___lfms_soft_2022/pop_T-3.0-al-0.5-gru4rec_02-25_12:49_t5/student_gru4rec_logs/checkpoint/best_acc_model.pth\"\n",
    "# ed_model_path = \"/data01/wushiguang-slurm/storage/___lfms_ensemble_distill_diff_model_2020/gru_gru4rec-en-0.1-T-3.0-al-0.5_02-25_15:55_t17/student_gru4rec_logs/checkpoint/best_acc_model.pth\"\n",
    "# ep_model_path = \"/data01/wushiguang-slurm/storage/___lfms_ensemble_distill_partial_trained_2022/ed_gru4rec-en-0.5-T-3.0-al-0.75-sr-0.8_02-27_18:13_t21/student_gru4rec_logs/checkpoint/best_acc_model.pth\"\n",
    "# dvae_model_path = \"/data01/wushiguang-slurm/storage/___lfms_dvae_2022/partial_gru4rec-T-6.0-al-0.75-dal-0.75-sr-0.8_03-01_04:24_t33/student_gru4rec_logs/checkpoint/best_acc_model.pth\"\n",
    "\n",
    "# config_path = \"/data01/wushiguang-slurm/storage01/___yelp_base_2022/base_gru4rec_03-06_19:36_0/config.json\"\n",
    "# data_path = \"./Data/Cache/yelp-5-5.pkl\"\n",
    "# base_model_path = \"/data01/wushiguang-slurm/storage01/___yelp_base_2022/base_gru4rec_03-06_19:36_0/gru4rec_logs/checkpoint/best_acc_model.pth\"\n",
    "# soft_model_path = \"/data01/wushiguang-slurm/storage/___yelp_soft_2022/pop_gru4rec-T-3.0-al-0.25_03-13_15:27_t4/student_gru4rec_logs/checkpoint/best_acc_model.pth\"\n",
    "# ed_model_path = \"/data01/wushiguang-slurm/storage/___yelp_ed_2022/ed_diff_2022_gru4rec-en-0.5-T-1.0-al-0.5_03-08_18:50_t2/student_gru4rec_logs/checkpoint/best_acc_model.pth\"\n",
    "# ep_model_path = \"/data01/wushiguang-slurm/storage/___yelp_ensemble_distill_partial_trained_2022/ed_gru4rec-en-0.5-T-6.0-al-0.25-sr-0.8_03-09_07:52_t7/student_gru4rec_logs/checkpoint/best_acc_model.pth\"\n",
    "# dvae_model_path = \"/data01/wushiguang-slurm/storage/___yelp_dvae_2022/teacher_gru4rec-T-3.0-al-0.5-dal-0.5-sr-0.8_03-12_06:15_t11/student_gru4rec_logs/checkpoint/best_acc_model.pth\"\n",
    "\n",
    "config_path = \"/data01/wushiguang-slurm/storage01/___el_base_2022/base_gru4rec_03-11_20:50_0/config.json\"\n",
    "data_path = \"./Data/Cache/electronics-5-5.pkl\"\n",
    "base_model_path = \"/data01/wushiguang-slurm/storage01/___el_base_2022/base_gru4rec_03-11_20:50_0/gru4rec_logs/checkpoint/best_acc_model.pth\"\n",
    "soft_model_path = \"/data01/wushiguang-slurm/storage01/___el_soft_2022/pop_gru4rec-T-6.0-al-0.75_03-15_10:57_t9/student_gru4rec_logs/checkpoint/best_acc_model.pth\"\n",
    "ed_model_path = \"/data01/wushiguang-slurm/storage01/___el_ensemble_distill_2022/ed_diff_2022_gru4rec-en-0.5-T-3.0-al-0.75_03-16_12:13_t6/student_gru4rec_logs/checkpoint/best_acc_model.pth\"\n",
    "ep_model_path = \"/data01/wushiguang-slurm/storage01/___el_test_2022/ed_partial_gru4rec-en-0.5-T-3.0-al-0.75-sr-0.8_03-16_11:12_t6/student_gru4rec_logs/checkpoint/best_acc_model.pth\"\n",
    "dvae_model_path = \"/data01/wushiguang-slurm/storage01/___el_dvae_2022/teacher_gru4rec-T-3.0-al-0.75-dal-0.5-sr-0.8_03-19_13:19_t12/student_gru4rec_logs/checkpoint/best_acc_model.pth\"\n"
   ]
  },
  {
   "cell_type": "code",
   "execution_count": 3,
   "id": "56aac7c9",
   "metadata": {},
   "outputs": [],
   "source": [
    "with open(path.normpath(config_path), 'r') as f:\n",
    "    args = argparse.Namespace()\n",
    "    args.__dict__.update(json.load(f))\n",
    "    if args.kwargs is not None:\n",
    "        args.__dict__update(args.kwargs)\n",
    "\n",
    "args.do_sampling = False"
   ]
  },
  {
   "cell_type": "code",
   "execution_count": 4,
   "id": "99da1adc",
   "metadata": {},
   "outputs": [],
   "source": [
    "train_loader, val_loader, test_loader, dataset = dataloader_factory(args)\n",
    "\n",
    "item_train, item_valid, item_test, usernum, itemnum, rating_train, rating_valid, rating_test = dataset"
   ]
  },
  {
   "cell_type": "code",
   "execution_count": 5,
   "id": "98d5ac33",
   "metadata": {},
   "outputs": [],
   "source": [
    "popularity = Counter() \n",
    "\n",
    "for user in range(0, usernum):\n",
    "    popularity.update(item_train[user])\n",
    "    popularity.update(item_valid[user])\n",
    "    popularity.update(item_test[user])\n",
    "\n",
    "pop = [0] * (itemnum + 1)\n",
    "\n",
    "for i, v in popularity.items():\n",
    "    pop[i] = v\n",
    "\n",
    "item_inter = torch.tensor(pop).to(torch.float)\n",
    "\n",
    "def _calculate_ARP(batch, model):\n",
    "    seqs = batch[0]\n",
    "    answer = batch[1]\n",
    "    \n",
    "    batch = [x.to('cuda') for x in batch]\n",
    "\n",
    "    batch_size = len(seqs)\n",
    "    with torch.no_grad():\n",
    "        scores = model.full_sort_predict(batch)\n",
    "\n",
    "    row = []\n",
    "    col = []\n",
    "\n",
    "    for i in range(batch_size):\n",
    "        seq = list(set(seqs[i].tolist()) | set(answer[i].tolist()))\n",
    "        seq.remove(answer[i][0].item())\n",
    "        if itemnum + 1 in seq:\n",
    "            seq.remove(itemnum + 1)\n",
    "        row += [i] * len(seq)\n",
    "        col += seq\n",
    "    scores[row, col] = -1e9\n",
    "\n",
    "    rank = (-scores).argsort(dim=1)[:, :10]\n",
    "\n",
    "    return  item_inter[rank].mean()\n",
    "\n",
    "def calculate_ARP(tag: str, model):\n",
    "    model.eval()\n",
    "\n",
    "    rate = 0.\n",
    "    t = 1\n",
    "#     tq = tqdm(test_loader)\n",
    "\n",
    "    for batch in test_loader:\n",
    "        rate += _calculate_ARP(batch, model)\n",
    "\n",
    "#         tq.set_description(f\"tag: {tag}, rate: {rate / t}\")\n",
    "\n",
    "        t += 1\n",
    "\n",
    "    rate /= len(test_loader)\n",
    "\n",
    "    print(tag, \":\", rate.item())"
   ]
  },
  {
   "cell_type": "code",
   "execution_count": 6,
   "id": "5511069e",
   "metadata": {},
   "outputs": [],
   "source": [
    "# model = generate_model(args, args.model_code, dataset, 'cpu')\n",
    "\n",
    "# load_state_from_given_path(model, model_path, 'cpu', must_exist=True)\n",
    "\n",
    "path_list = [base_model_path, soft_model_path, ed_model_path, ep_model_path, dvae_model_path]\n",
    "\n",
    "model_list = [generate_model(args, args.model_code, dataset, 'cuda') for p in path_list]\n",
    "\n",
    "tag_list = ['base', 'soft', 'post-model', 'post-data', 'dvae']\n",
    "\n",
    "for m, p in zip(model_list, path_list):\n",
    "    load_state_from_given_path(m, p, 'cuda', must_exist=True)"
   ]
  },
  {
   "cell_type": "code",
   "execution_count": 7,
   "id": "b63daa1a",
   "metadata": {
    "scrolled": false
   },
   "outputs": [
    {
     "name": "stdout",
     "output_type": "stream",
     "text": [
      "base : 1148.6190185546875\n",
      "soft : 749.2748413085938\n",
      "post-model : 728.935546875\n",
      "post-data : 703.6705322265625\n",
      "dvae : 745.12841796875\n"
     ]
    }
   ],
   "source": [
    "for t, m in zip(tag_list, model_list):\n",
    "    calculate_ARP(t, m)"
   ]
  },
  {
   "cell_type": "code",
   "execution_count": 8,
   "id": "f73fc8b3",
   "metadata": {},
   "outputs": [
    {
     "name": "stdout",
     "output_type": "stream",
     "text": [
      "rand : 16.378864288330078\n"
     ]
    }
   ],
   "source": [
    "rand_model = generate_model(args, args.model_code, dataset, 'cuda')\n",
    "calculate_ARP('rand', rand_model)"
   ]
  }
 ],
 "metadata": {
  "kernelspec": {
   "display_name": "Python 3.9.7 64-bit ('deeplearning': conda)",
   "language": "python",
   "name": "python397jvsc74a57bd06e781534ff0a4a9cdbb0600245590fb60d97caba7a50501441961d6e7d9538dd"
  },
  "language_info": {
   "codemirror_mode": {
    "name": "ipython",
    "version": 3
   },
   "file_extension": ".py",
   "mimetype": "text/x-python",
   "name": "python",
   "nbconvert_exporter": "python",
   "pygments_lexer": "ipython3",
   "version": "3.9.7"
  },
  "varInspector": {
   "cols": {
    "lenName": 16,
    "lenType": 16,
    "lenVar": 40
   },
   "kernels_config": {
    "python": {
     "delete_cmd_postfix": "",
     "delete_cmd_prefix": "del ",
     "library": "var_list.py",
     "varRefreshCmd": "print(var_dic_list())"
    },
    "r": {
     "delete_cmd_postfix": ") ",
     "delete_cmd_prefix": "rm(",
     "library": "var_list.r",
     "varRefreshCmd": "cat(var_dic_list()) "
    }
   },
   "types_to_exclude": [
    "module",
    "function",
    "builtin_function_or_method",
    "instance",
    "_Feature"
   ],
   "window_display": false
  }
 },
 "nbformat": 4,
 "nbformat_minor": 5
}
